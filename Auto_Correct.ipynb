{
  "nbformat": 4,
  "nbformat_minor": 0,
  "metadata": {
    "coursera": {
      "schema_names": [
        "NLPC2-1"
      ]
    },
    "kernelspec": {
      "display_name": "Python 3",
      "language": "python",
      "name": "python3"
    },
    "language_info": {
      "codemirror_mode": {
        "name": "ipython",
        "version": 3
      },
      "file_extension": ".py",
      "mimetype": "text/x-python",
      "name": "python",
      "nbconvert_exporter": "python",
      "pygments_lexer": "ipython3",
      "version": "3.7.6"
    },
    "colab": {
      "name": "Auto-Correct.ipynb",
      "provenance": [],
      "collapsed_sections": [
        "nu4wBWgiRQmg",
        "Ai0uNCD9N52E"
      ]
    }
  },
  "cells": [
    {
      "cell_type": "markdown",
      "metadata": {
        "id": "dxZA5vDX_HTj"
      },
      "source": [
        "#Pre-Processing"
      ]
    },
    {
      "cell_type": "code",
      "metadata": {
        "id": "x40n31ez_Mk-"
      },
      "source": [
        "train_column_path = '/content/drive/MyDrive/QALB-0.9.0-May04-2021-SharedTask/data/QALB-Train2014.column'\n",
        "train_sent_path='/content/drive/MyDrive/QALB-0.9.0-May04-2021-SharedTask/data/QALB-Train2014.sent'\n",
        "train_m2_path = '/content/drive/MyDrive/QALB-0.9.0-May04-2021-SharedTask/data/QALB-Train2014.m2'"
      ],
      "execution_count": null,
      "outputs": []
    },
    {
      "cell_type": "code",
      "metadata": {
        "id": "8WSO9scE_MjI"
      },
      "source": [
        "def openf(path):\n",
        "  with open(path, \"r\") as f:\n",
        "    text = f.readlines()\n",
        "  return text"
      ],
      "execution_count": null,
      "outputs": []
    },
    {
      "cell_type": "code",
      "metadata": {
        "id": "bG1q1enH_MhH"
      },
      "source": [
        "def split(text , symbol = ' '):\n",
        "  data = []\n",
        "  for i in range(len(text)):\n",
        "    data.append(text[i].split(symbol))\n",
        "  return data"
      ],
      "execution_count": null,
      "outputs": []
    },
    {
      "cell_type": "code",
      "metadata": {
        "id": "EnFFuqax_Mew"
      },
      "source": [
        "column_text = openf(train_column_path)"
      ],
      "execution_count": null,
      "outputs": []
    },
    {
      "cell_type": "code",
      "metadata": {
        "id": "zftnhniM_McL"
      },
      "source": [
        "column_data = split(column_text)"
      ],
      "execution_count": null,
      "outputs": []
    },
    {
      "cell_type": "code",
      "metadata": {
        "id": "fRdi2qJH_MaH"
      },
      "source": [
        "len(column_data[0])"
      ],
      "execution_count": null,
      "outputs": []
    },
    {
      "cell_type": "code",
      "metadata": {
        "id": "bcVMgjPh_MQG"
      },
      "source": [
        "columns = ['document_id' , 'word_id' , 'word' , 'undiacritized_word' , 'Alif_normalized' , 'PATB_lemma',\n",
        "           'CATiB_POS' , 'Kulick_POS' , 'Buckwalter_POS' , 'score' , 'fully_tashkel' , 'Lemma' , \n",
        "           'Buckwalter_tag' , 'without_tashkel' ,'prefix_gloss' ,  'stem_gloss' , 'suffix_gloss' , \n",
        "           'MADAMIRA_POS_tag' , 'Proclitic_3' , 'Proclitic_2' , 'Proclitic_1' ,'Proclitic_0' ,\n",
        "           'person' , 'aspect' , 'voice' , 'mood' , 'gender' , 'number' , 'state' , 'case' ,\n",
        "           'enclitic' , 'lexical' , 'stem' ]\n",
        "df = pd.DataFrame(column_data ,columns =columns )"
      ],
      "execution_count": null,
      "outputs": []
    },
    {
      "cell_type": "code",
      "metadata": {
        "id": "4Lqp1Afu_MGO"
      },
      "source": [
        "df.head(50)"
      ],
      "execution_count": null,
      "outputs": []
    },
    {
      "cell_type": "markdown",
      "metadata": {
        "id": "0akfcjDo_yEt"
      },
      "source": [
        "##play with M2"
      ]
    },
    {
      "cell_type": "code",
      "metadata": {
        "id": "8-T0t3ie_o9_"
      },
      "source": [
        "m2_text = openf(train_m2_path)"
      ],
      "execution_count": null,
      "outputs": []
    },
    {
      "cell_type": "code",
      "metadata": {
        "id": "dHzm4feq_o8F"
      },
      "source": [
        "m2_text"
      ],
      "execution_count": null,
      "outputs": []
    },
    {
      "cell_type": "code",
      "metadata": {
        "id": "BtXjaRl8_o5y"
      },
      "source": [
        "S = []\n",
        "A = [] #item of this List contain the sentence & its actions\n",
        "for i in m2_text:\n",
        "  if i != '\\n':\n",
        "    S.append(i)\n",
        "    continue\n",
        "  elif i == '\\n':\n",
        "    A.append(S)\n",
        "    S = []"
      ],
      "execution_count": null,
      "outputs": []
    },
    {
      "cell_type": "code",
      "metadata": {
        "id": "YOcoqtfL_o3O"
      },
      "source": [
        "all = A"
      ],
      "execution_count": null,
      "outputs": []
    },
    {
      "cell_type": "code",
      "metadata": {
        "id": "HgNCTL-K_9qH"
      },
      "source": [
        "corrected = []\n",
        "for item in range(len(all)):\n",
        "  orginal = all[item][0][1:]\n",
        "  strn = orginal\n",
        "  actions = all[item][1:]\n",
        "  words = orginal.strip().split()\n",
        "  ww = words\n",
        "  print(' '.join(ww))\n",
        "  count = 0\n",
        "  for action in actions:\n",
        "    #words = orginal.split()\n",
        "    w = action.split('|||')\n",
        "    action_type = w[1]\n",
        "    replaced = w[2] \n",
        "    index1 = int(w[0].split()[-2])\n",
        "    index2 = int(w[0].split()[-1])\n",
        "    #print(index1)\n",
        "    #print(index2)\n",
        "    #print(ww[index1:index2])\n",
        "    #print(action_type)\n",
        "    \n",
        "    \n",
        "    if action_type == 'Add_before' or action_type == 'add_token_before':\n",
        "      ww.insert(int(index1) , replaced)\n",
        "      #index = index +1\n",
        "      count = count + 1\n",
        "      #print(' '.join(ww))\n",
        "      \n",
        "\n",
        "    elif action_type == 'merge':\n",
        "      index1 = int(w[0].split()[-2]) + count\n",
        "      index2 = int(w[0].split()[-1]) + count\n",
        "      #print(index)\n",
        "      #print(index1)\n",
        "      #print(index1)\n",
        "      del ww[index1:index2]\n",
        "      ww.insert(index1  , replaced)\n",
        "      #index = index +1\n",
        "      \n",
        "      #print(' '.join(ww))\n",
        "    \n",
        "    else:\n",
        "      ww[index1+count] = replaced\n",
        "      #print(' '.join(ww))\n",
        "\n",
        "  print(' '.join(ww))\n",
        "  print('-'*50)\n",
        "  corrected.append(' '.join(ww))\n"
      ],
      "execution_count": null,
      "outputs": []
    },
    {
      "cell_type": "code",
      "metadata": {
        "id": "yEzQQ9FlAA54"
      },
      "source": [
        "with open(\"file.txt\", \"w\") as output:\n",
        "    output.write(str(corrected))"
      ],
      "execution_count": null,
      "outputs": []
    },
    {
      "cell_type": "markdown",
      "metadata": {
        "id": "UfLZELjgRQmF"
      },
      "source": [
        "\n",
        "#Spell-Checker Using Dic"
      ]
    },
    {
      "cell_type": "code",
      "metadata": {
        "colab": {
          "base_uri": "https://localhost:8080/"
        },
        "id": "H6pocfpaNEBB",
        "outputId": "5528d742-8887-4e57-e5ce-2a11990acc8c"
      },
      "source": [
        "from google.colab import drive\n",
        "drive.mount('/content/drive')"
      ],
      "execution_count": null,
      "outputs": [
        {
          "output_type": "stream",
          "text": [
            "Mounted at /content/drive\n"
          ],
          "name": "stdout"
        }
      ]
    },
    {
      "cell_type": "code",
      "metadata": {
        "id": "jOnrMOArNhVi"
      },
      "source": [
        "file_path = \"/content/drive/MyDrive/file.txt\"\n",
        "dicPath = '/content/drive/MyDrive/Arabic-Wordlist-1.6/arabic-wordlist-1.6.txt'\n",
        "testPath = '/content/test.txt'"
      ],
      "execution_count": null,
      "outputs": []
    },
    {
      "cell_type": "code",
      "metadata": {
        "id": "YPgsJCG9RQmG"
      },
      "source": [
        "import re\n",
        "from collections import Counter\n",
        "import numpy as np\n",
        "import pandas as pd\n"
      ],
      "execution_count": null,
      "outputs": []
    },
    {
      "cell_type": "code",
      "metadata": {
        "id": "rpf-Yx-Pr89t"
      },
      "source": [
        "def openf(path):\n",
        "  with open(path, \"r\") as f:\n",
        "    text = f.readlines()\n",
        "  return text\n",
        "\n",
        "def split(text , symbol = ' '):\n",
        "  data = []\n",
        "  for i in range(len(text)):\n",
        "    data.append(text[i].split(symbol))\n",
        "  return data\n",
        "\n",
        "def readDic(dicPath):\n",
        "  wordsList = []\n",
        "  inputFile = open(dicPath , 'r')\n",
        "  for line in inputFile:\n",
        "    word = line.strip()\n",
        "    wordsList.append(word)\n",
        "  inputFile.close()\n",
        "  return wordsList\n",
        "\n",
        "\n",
        "def readFile(filePath):\n",
        "  words = []\n",
        "  inputFile = open(filePath , 'r')\n",
        "  for line in inputFile:\n",
        "    wordsInLine = line.strip().split()\n",
        "    for word in wordsInLine :\n",
        "      words.append(word.strip(\".,!\\\":;؟\"))\n",
        "  inputFile.close()\n",
        "  \n",
        "  return words\n",
        "\n",
        "def findErrors(dicList , fileList):\n",
        "  miss = dict()\n",
        "  for index in range(len(fileList)):\n",
        "    if fileList[index] not in dicList:\n",
        "      #miss[index] = fileList[index]\n",
        "      miss[fileList[index]] = index\n",
        "      #miss.append(word)\n",
        "  return miss\n",
        "\n",
        "\n",
        "def printErrors(errorList):\n",
        "  print('The Misspelled words are : ')\n",
        "  for i in errorList:\n",
        "    print(i)\n"
      ],
      "execution_count": null,
      "outputs": []
    },
    {
      "cell_type": "code",
      "metadata": {
        "id": "_apOdcA90O4P"
      },
      "source": [
        "dicList = readDic(dicPath)"
      ],
      "execution_count": null,
      "outputs": []
    },
    {
      "cell_type": "code",
      "metadata": {
        "colab": {
          "base_uri": "https://localhost:8080/"
        },
        "id": "7cdIv2K8xLCj",
        "outputId": "b3bb5a8e-f133-4ede-9531-3be7c2b0cf60"
      },
      "source": [
        "fileList = readFile(testPath)\n",
        "errordict = findErrors(dicList , fileList )\n",
        "errorList = list(errordict.keys())\n",
        "printErrors(errorList)"
      ],
      "execution_count": null,
      "outputs": [
        {
          "output_type": "stream",
          "text": [
            "The Misspelled words are : \n",
            "العرجم\n",
            "عمجلة\n"
          ],
          "name": "stdout"
        }
      ]
    },
    {
      "cell_type": "code",
      "metadata": {
        "colab": {
          "base_uri": "https://localhost:8080/",
          "height": 35
        },
        "id": "7J_p-42e3uMF",
        "outputId": "73c0224d-7f01-409e-9c7d-785d983c5284"
      },
      "source": [
        "fileList[0]"
      ],
      "execution_count": null,
      "outputs": [
        {
          "output_type": "execute_result",
          "data": {
            "application/vnd.google.colaboratory.intrinsic+json": {
              "type": "string"
            },
            "text/plain": [
              "'اللغة'"
            ]
          },
          "metadata": {
            "tags": []
          },
          "execution_count": 90
        }
      ]
    },
    {
      "cell_type": "code",
      "metadata": {
        "colab": {
          "base_uri": "https://localhost:8080/"
        },
        "id": "hg73jbJm3mvU",
        "outputId": "7cf18af8-bda2-49e6-f5da-fadcffd8fa54"
      },
      "source": [
        "errordict['الفرعجيه']"
      ],
      "execution_count": null,
      "outputs": [
        {
          "output_type": "execute_result",
          "data": {
            "text/plain": [
              "1"
            ]
          },
          "metadata": {
            "tags": []
          },
          "execution_count": 92
        }
      ]
    },
    {
      "cell_type": "code",
      "metadata": {
        "colab": {
          "base_uri": "https://localhost:8080/"
        },
        "id": "MULzdl9osBC8",
        "outputId": "9b5740ab-903f-48e1-fad3-4e46ff3c4ce6"
      },
      "source": [
        "dicList = readDic(dicPath)\n",
        "fileList = readFile(testPath)\n",
        "errorList = findErrors(dicList , fileList )\n",
        "printErrors(errorList)"
      ],
      "execution_count": null,
      "outputs": [
        {
          "output_type": "stream",
          "text": [
            "The Misspelled words are : \n",
            "الفرعجيه\n"
          ],
          "name": "stdout"
        }
      ]
    },
    {
      "cell_type": "code",
      "metadata": {
        "id": "pWqAwf9qRQmJ"
      },
      "source": [
        "def process_data(file_name):\n",
        "    words = [] # return this variable correctly\n",
        "\n",
        "    with open(file_name) as f:\n",
        "        file_name_data = f.read()\n",
        "    file_name_data=file_name_data.lower()\n",
        "    words = re.findall('\\w+',file_name_data)\n",
        "    \n",
        "    return words"
      ],
      "execution_count": null,
      "outputs": []
    },
    {
      "cell_type": "code",
      "metadata": {
        "id": "XxPZSh95TPso"
      },
      "source": [
        "#dicl = process_data(dicPath)\n",
        "#dicl = set(dicl)"
      ],
      "execution_count": null,
      "outputs": []
    },
    {
      "cell_type": "code",
      "metadata": {
        "colab": {
          "base_uri": "https://localhost:8080/"
        },
        "id": "nZErExJzTdqq",
        "outputId": "938a47fe-ff07-4c2c-85cd-e7686b67bc97"
      },
      "source": [
        "#len(dicl)"
      ],
      "execution_count": null,
      "outputs": [
        {
          "output_type": "execute_result",
          "data": {
            "text/plain": [
              "9196214"
            ]
          },
          "metadata": {
            "tags": []
          },
          "execution_count": 63
        }
      ]
    },
    {
      "cell_type": "code",
      "metadata": {
        "id": "qk1yb710TrDF"
      },
      "source": [
        ""
      ],
      "execution_count": null,
      "outputs": []
    },
    {
      "cell_type": "code",
      "metadata": {
        "colab": {
          "base_uri": "https://localhost:8080/"
        },
        "id": "Gk2si9g0RQmK",
        "outputId": "122c6a74-c681-4925-91de-711ef23457b9"
      },
      "source": [
        "word_l = process_data(file_path)\n",
        "vocab = set(word_l)  # this will be your new vocabulary\n",
        "print(f\"The first ten words in the text are: \\n{word_l[0:50]}\")\n",
        "print(f\"There are {len(vocab)} unique words in the vocabulary.\")"
      ],
      "execution_count": null,
      "outputs": [
        {
          "output_type": "stream",
          "text": [
            "The first ten words in the text are: \n",
            "['إلى', 'التعليق', 'رقم', '2', 'أكيد', 'أن', 'للحكام', 'العرب', 'والمسلمين', 'مسؤولية', 'يتمثل', 'أدناها', 'في', 'استدعاء', 'السفراء', 'في', 'الصين', 'للتشاور', 'فليتهم', 'يفعلونها', 'ولو', 'مرة', 'ولنا', 'نحن', 'كشعوب', 'مسؤولية', 'كذلك', 'تتمثل', 'في', 'مساندة', 'إخواننا', 'في', 'الصين', 'بمقاطعة', 'البضائع', 'الصينية', 'وليتنا', 'نفعلها', 'ولو', 'ثلاثة', 'أشهر', 'نحن', 'ببالغ', 'الأسى', 'نعزي', 'ضحايا', 'الحادث', 'الأليم', 'الذي', 'ذهب']\n",
            "There are 102419 unique words in the vocabulary.\n"
          ],
          "name": "stdout"
        }
      ]
    },
    {
      "cell_type": "code",
      "metadata": {
        "id": "Jpldb_jvUFsA"
      },
      "source": [
        "#dicl.update(vocab)"
      ],
      "execution_count": null,
      "outputs": []
    },
    {
      "cell_type": "code",
      "metadata": {
        "colab": {
          "base_uri": "https://localhost:8080/"
        },
        "id": "7bjSKvKqUOXy",
        "outputId": "4affb382-d2eb-4b09-adf2-d206774ab4de"
      },
      "source": [
        "#len(dicl)"
      ],
      "execution_count": null,
      "outputs": [
        {
          "output_type": "execute_result",
          "data": {
            "text/plain": [
              "9204895"
            ]
          },
          "metadata": {
            "tags": []
          },
          "execution_count": 65
        }
      ]
    },
    {
      "cell_type": "code",
      "metadata": {
        "id": "3xvo8y9jUTiq"
      },
      "source": [
        "#vocab = dicl"
      ],
      "execution_count": null,
      "outputs": []
    },
    {
      "cell_type": "code",
      "metadata": {
        "colab": {
          "base_uri": "https://localhost:8080/"
        },
        "id": "mAzw4O1fuMix",
        "outputId": "55a38619-2de8-42d5-dbf9-854916e30513"
      },
      "source": [
        "len(vocab)"
      ],
      "execution_count": null,
      "outputs": [
        {
          "output_type": "execute_result",
          "data": {
            "text/plain": [
              "102419"
            ]
          },
          "metadata": {
            "tags": []
          },
          "execution_count": 17
        }
      ]
    },
    {
      "cell_type": "markdown",
      "metadata": {
        "id": "8h5k6s0C-882"
      },
      "source": [
        "#Corrector"
      ]
    },
    {
      "cell_type": "code",
      "metadata": {
        "id": "sqfXhA5dRQmM"
      },
      "source": [
        "def get_count(word_l):\n",
        "  \n",
        "    word_count_dict = {}  # fill this with word counts\n",
        "    word_count_dict = Counter(word_l)\n",
        "\n",
        "    return word_count_dict"
      ],
      "execution_count": null,
      "outputs": []
    },
    {
      "cell_type": "code",
      "metadata": {
        "colab": {
          "base_uri": "https://localhost:8080/"
        },
        "id": "Z68NjFGwRQmM",
        "outputId": "e9e3f945-6a39-4df8-97ae-bbb0988d0788"
      },
      "source": [
        "word_count_dict = get_count(word_l)\n",
        "print(f\"There are {len(word_count_dict)} key values pairs\")\n",
        "print(f\"The count for the word 'مسؤولية' is {word_count_dict.get('مسؤولية',0)}\")"
      ],
      "execution_count": null,
      "outputs": [
        {
          "output_type": "stream",
          "text": [
            "There are 102419 key values pairs\n",
            "The count for the word 'مسؤولية' is 49\n"
          ],
          "name": "stdout"
        }
      ]
    },
    {
      "cell_type": "code",
      "metadata": {
        "id": "gII89tgrRQmP"
      },
      "source": [
        "def get_probs(word_count_dict):\n",
        "\n",
        "    probs = {}  # return this variable correctly\n",
        "    \n",
        "    m = sum(word_count_dict.values())\n",
        "    for key in word_count_dict.keys():\n",
        "        probs[key] = word_count_dict[key] / m\n",
        "    return probs"
      ],
      "execution_count": null,
      "outputs": []
    },
    {
      "cell_type": "code",
      "metadata": {
        "colab": {
          "base_uri": "https://localhost:8080/"
        },
        "id": "SgY_KwrpuocC",
        "outputId": "dfc77168-8d51-46ec-d684-7bd2ec765af6"
      },
      "source": [
        "word_count_dict['علي']"
      ],
      "execution_count": null,
      "outputs": [
        {
          "output_type": "execute_result",
          "data": {
            "text/plain": [
              "368"
            ]
          },
          "metadata": {
            "tags": []
          },
          "execution_count": 23
        }
      ]
    },
    {
      "cell_type": "code",
      "metadata": {
        "colab": {
          "base_uri": "https://localhost:8080/"
        },
        "id": "kG8taoGdRQmQ",
        "outputId": "0ae74fb4-202b-461f-d1fc-551f1845fbb1"
      },
      "source": [
        "probs = get_probs(word_count_dict)\n",
        "print(f\"Length of probs is {len(probs)}\")\n",
        "print(f\"P('علي') is {probs['علي']:.4f}\")"
      ],
      "execution_count": null,
      "outputs": [
        {
          "output_type": "stream",
          "text": [
            "Length of probs is 102419\n",
            "P('علي') is 0.0004\n"
          ],
          "name": "stdout"
        }
      ]
    },
    {
      "cell_type": "code",
      "metadata": {
        "id": "XvT4-QLrRQmT"
      },
      "source": [
        "def delete_letter(word, verbose=False):\n",
        "\n",
        "    delete_l = []\n",
        "    split_l = []\n",
        "    \n",
        "    for c in range(len(word)):\n",
        "        split_l.append((word[:c],word[c:]))\n",
        "    for a,b in split_l:\n",
        "        delete_l.append(a+b[1:])          \n",
        "\n",
        "    if verbose: print(f\"input word {word}, \\nsplit_l = {split_l}, \\ndelete_l = {delete_l}\")\n",
        "\n",
        "    return delete_l"
      ],
      "execution_count": null,
      "outputs": []
    },
    {
      "cell_type": "code",
      "metadata": {
        "colab": {
          "base_uri": "https://localhost:8080/"
        },
        "id": "9Ildoe41RQmT",
        "outputId": "a5498fb1-1501-456a-a68a-3e3312a71c99"
      },
      "source": [
        "delete_word_l = delete_letter(word=\"مسؤلية\",\n",
        "                        verbose=True)"
      ],
      "execution_count": null,
      "outputs": [
        {
          "output_type": "stream",
          "text": [
            "input word مسؤلية, \n",
            "split_l = [('', 'مسؤلية'), ('م', 'سؤلية'), ('مس', 'ؤلية'), ('مسؤ', 'لية'), ('مسؤل', 'ية'), ('مسؤلي', 'ة')], \n",
            "delete_l = ['سؤلية', 'مؤلية', 'مسلية', 'مسؤية', 'مسؤلة', 'مسؤلي']\n"
          ],
          "name": "stdout"
        }
      ]
    },
    {
      "cell_type": "code",
      "metadata": {
        "id": "xVhkAWSSRQmW"
      },
      "source": [
        "def switch_letter(word, verbose=False):\n",
        "\n",
        "    def swap(c, i, j):\n",
        "        c = list(c)\n",
        "        c[i], c[j] = c[j], c[i]\n",
        "        return ''.join(c)\n",
        "    \n",
        "    switch_l = []\n",
        "    split_l = []\n",
        "    len_word=len(word)\n",
        "    \n",
        "    for c in range(len_word):\n",
        "        split_l.append((word[:c],word[c:]))\n",
        "    switch_l = [a + b[1] + b[0] + b[2:] for a,b in split_l if len(b) >= 2]      \n",
        "    \n",
        "    if verbose: print(f\"Input word = {word} \\nsplit_l = {split_l} \\nswitch_l = {switch_l}\") \n",
        "\n",
        "    return switch_l"
      ],
      "execution_count": null,
      "outputs": []
    },
    {
      "cell_type": "code",
      "metadata": {
        "colab": {
          "base_uri": "https://localhost:8080/"
        },
        "id": "iKTeWe-sRQmW",
        "outputId": "cd42361e-c3f2-4c5a-e872-c2f5c7656e33"
      },
      "source": [
        "switch_word_l = switch_letter(word=\"مسؤولية\",\n",
        "                         verbose=True)"
      ],
      "execution_count": null,
      "outputs": [
        {
          "output_type": "stream",
          "text": [
            "Input word = مسؤولية \n",
            "split_l = [('', 'مسؤولية'), ('م', 'سؤولية'), ('مس', 'ؤولية'), ('مسؤ', 'ولية'), ('مسؤو', 'لية'), ('مسؤول', 'ية'), ('مسؤولي', 'ة')] \n",
            "switch_l = ['سمؤولية', 'مؤسولية', 'مسوؤلية', 'مسؤلوية', 'مسؤويلة', 'مسؤولةي']\n"
          ],
          "name": "stdout"
        }
      ]
    },
    {
      "cell_type": "code",
      "metadata": {
        "id": "GDYT5PtCRQmY"
      },
      "source": [
        "def replace_letter(word, verbose=False):\n",
        "    \n",
        "    letters = ['ا' ,'أ','آ' ,'إ' ,'ب' ,'ت' ,'ث' ,'ج' ,'ح' ,'خ' ,'د' ,'ذ' ,'ر' ,'ز' ,'س' ,'ش' ,'ص' ,'ض' ,'ط' ,'ظ' ,'ع' ,'غ' ,'ف' ,'ق' ,'ك' ,'ل' ,'م' ,'ن' ,'ه' ,'ة' ,'و' ,'ؤ' , 'ء' ,'ي' ,'ى' ,'ئ' ]    \n",
        "    replace_l = []\n",
        "    split_l = []\n",
        "    \n",
        "    \n",
        "    for c in range(len(word)):\n",
        "        split_l.append((word[0:c],word[c:]))\n",
        "    replace_l = [a + l + (b[1:] if len(b)> 1 else '') for a,b in split_l if b for l in letters]\n",
        "    replace_set=set(replace_l)    \n",
        "    replace_set.remove(word)\n",
        "    \n",
        "    # turn the set back into a list and sort it, for easier viewing\n",
        "    replace_l = sorted(list(replace_set))\n",
        "    \n",
        "    if verbose: print(f\"Input word = {word} \\nsplit_l = {split_l} \\nreplace_l {replace_l}\")   \n",
        "    \n",
        "    return replace_l"
      ],
      "execution_count": null,
      "outputs": []
    },
    {
      "cell_type": "code",
      "metadata": {
        "colab": {
          "base_uri": "https://localhost:8080/"
        },
        "id": "dTG1Qz5HRQmY",
        "outputId": "36c7a812-70e9-4046-dd38-9e5581e5f466"
      },
      "source": [
        "replace_l = replace_letter(word='مسؤولية',\n",
        "                              verbose=True)"
      ],
      "execution_count": null,
      "outputs": [
        {
          "output_type": "stream",
          "text": [
            "Input word = مسؤولية \n",
            "split_l = [('', 'مسؤولية'), ('م', 'سؤولية'), ('مس', 'ؤولية'), ('مسؤ', 'ولية'), ('مسؤو', 'لية'), ('مسؤول', 'ية'), ('مسؤولي', 'ة')] \n",
            "replace_l ['ءسؤولية', 'آسؤولية', 'أسؤولية', 'ؤسؤولية', 'إسؤولية', 'ئسؤولية', 'اسؤولية', 'بسؤولية', 'ةسؤولية', 'تسؤولية', 'ثسؤولية', 'جسؤولية', 'حسؤولية', 'خسؤولية', 'دسؤولية', 'ذسؤولية', 'رسؤولية', 'زسؤولية', 'سسؤولية', 'شسؤولية', 'صسؤولية', 'ضسؤولية', 'طسؤولية', 'ظسؤولية', 'عسؤولية', 'غسؤولية', 'فسؤولية', 'قسؤولية', 'كسؤولية', 'لسؤولية', 'مءؤولية', 'مآؤولية', 'مأؤولية', 'مؤؤولية', 'مإؤولية', 'مئؤولية', 'ماؤولية', 'مبؤولية', 'مةؤولية', 'متؤولية', 'مثؤولية', 'مجؤولية', 'محؤولية', 'مخؤولية', 'مدؤولية', 'مذؤولية', 'مرؤولية', 'مزؤولية', 'مسءولية', 'مسآولية', 'مسأولية', 'مسؤءلية', 'مسؤآلية', 'مسؤألية', 'مسؤؤلية', 'مسؤإلية', 'مسؤئلية', 'مسؤالية', 'مسؤبلية', 'مسؤةلية', 'مسؤتلية', 'مسؤثلية', 'مسؤجلية', 'مسؤحلية', 'مسؤخلية', 'مسؤدلية', 'مسؤذلية', 'مسؤرلية', 'مسؤزلية', 'مسؤسلية', 'مسؤشلية', 'مسؤصلية', 'مسؤضلية', 'مسؤطلية', 'مسؤظلية', 'مسؤعلية', 'مسؤغلية', 'مسؤفلية', 'مسؤقلية', 'مسؤكلية', 'مسؤللية', 'مسؤملية', 'مسؤنلية', 'مسؤهلية', 'مسؤوءية', 'مسؤوآية', 'مسؤوأية', 'مسؤوؤية', 'مسؤوإية', 'مسؤوئية', 'مسؤواية', 'مسؤوبية', 'مسؤوةية', 'مسؤوتية', 'مسؤوثية', 'مسؤوجية', 'مسؤوحية', 'مسؤوخية', 'مسؤودية', 'مسؤوذية', 'مسؤورية', 'مسؤوزية', 'مسؤوسية', 'مسؤوشية', 'مسؤوصية', 'مسؤوضية', 'مسؤوطية', 'مسؤوظية', 'مسؤوعية', 'مسؤوغية', 'مسؤوفية', 'مسؤوقية', 'مسؤوكية', 'مسؤولءة', 'مسؤولآة', 'مسؤولأة', 'مسؤولؤة', 'مسؤولإة', 'مسؤولئة', 'مسؤولاة', 'مسؤولبة', 'مسؤولةة', 'مسؤولتة', 'مسؤولثة', 'مسؤولجة', 'مسؤولحة', 'مسؤولخة', 'مسؤولدة', 'مسؤولذة', 'مسؤولرة', 'مسؤولزة', 'مسؤولسة', 'مسؤولشة', 'مسؤولصة', 'مسؤولضة', 'مسؤولطة', 'مسؤولظة', 'مسؤولعة', 'مسؤولغة', 'مسؤولفة', 'مسؤولقة', 'مسؤولكة', 'مسؤوللة', 'مسؤولمة', 'مسؤولنة', 'مسؤولهة', 'مسؤولوة', 'مسؤولىة', 'مسؤوليء', 'مسؤوليآ', 'مسؤوليأ', 'مسؤوليؤ', 'مسؤوليإ', 'مسؤوليئ', 'مسؤوليا', 'مسؤوليب', 'مسؤوليت', 'مسؤوليث', 'مسؤوليج', 'مسؤوليح', 'مسؤوليخ', 'مسؤوليد', 'مسؤوليذ', 'مسؤولير', 'مسؤوليز', 'مسؤوليس', 'مسؤوليش', 'مسؤوليص', 'مسؤوليض', 'مسؤوليط', 'مسؤوليظ', 'مسؤوليع', 'مسؤوليغ', 'مسؤوليف', 'مسؤوليق', 'مسؤوليك', 'مسؤوليل', 'مسؤوليم', 'مسؤولين', 'مسؤوليه', 'مسؤوليو', 'مسؤوليى', 'مسؤوليي', 'مسؤومية', 'مسؤونية', 'مسؤوهية', 'مسؤووية', 'مسؤوىية', 'مسؤويية', 'مسؤىلية', 'مسؤيلية', 'مسإولية', 'مسئولية', 'مساولية', 'مسبولية', 'مسةولية', 'مستولية', 'مسثولية', 'مسجولية', 'مسحولية', 'مسخولية', 'مسدولية', 'مسذولية', 'مسرولية', 'مسزولية', 'مسسولية', 'مسشولية', 'مسصولية', 'مسضولية', 'مسطولية', 'مسظولية', 'مسعولية', 'مسغولية', 'مسفولية', 'مسقولية', 'مسكولية', 'مسلولية', 'مسمولية', 'مسنولية', 'مسهولية', 'مسوولية', 'مسىولية', 'مسيولية', 'مشؤولية', 'مصؤولية', 'مضؤولية', 'مطؤولية', 'مظؤولية', 'معؤولية', 'مغؤولية', 'مفؤولية', 'مقؤولية', 'مكؤولية', 'ملؤولية', 'ممؤولية', 'منؤولية', 'مهؤولية', 'موؤولية', 'مىؤولية', 'ميؤولية', 'نسؤولية', 'هسؤولية', 'وسؤولية', 'ىسؤولية', 'يسؤولية']\n"
          ],
          "name": "stdout"
        }
      ]
    },
    {
      "cell_type": "code",
      "metadata": {
        "id": "K5JlLdNDRQma"
      },
      "source": [
        "\n",
        "def insert_letter(word, verbose=False):\n",
        "\n",
        "    letters = ['ا' ,'أ','آ' ,'إ' ,'ب' ,'ت' ,'ث' ,'ج' ,'ح' ,'خ' ,'د' ,'ذ' ,'ر' ,'ز' ,'س' ,'ش' ,'ص' ,'ض' ,'ط' ,'ظ' ,'ع' ,'غ' ,'ف' ,'ق' ,'ك' ,'ل' ,'م' ,'ن' ,'ه' ,'ة' ,'و' ,'ؤ' , 'ء' ,'ي' ,'ى' ,'ئ' ]\n",
        "    insert_l = []\n",
        "    split_l = []\n",
        "    \n",
        "    for c in range(len(word)+1):\n",
        "        split_l.append((word[0:c],word[c:]))\n",
        "    insert_l = [ a + l + b for a,b in split_l for l in letters]\n",
        "\n",
        "    if verbose: print(f\"Input word {word} \\nsplit_l = {split_l} \\ninsert_l = {insert_l}\")\n",
        "    \n",
        "    return insert_l"
      ],
      "execution_count": null,
      "outputs": []
    },
    {
      "cell_type": "code",
      "metadata": {
        "colab": {
          "base_uri": "https://localhost:8080/"
        },
        "id": "rWNFtrsoRQma",
        "outputId": "a50c70d1-1c3a-4a98-8e11-39b63ce09ba9"
      },
      "source": [
        "insert_l = insert_letter('مسؤلية', True)\n",
        "print(f\"Number of strings output by insert_letter('مسؤولية') is {len(insert_l)}\")"
      ],
      "execution_count": null,
      "outputs": [
        {
          "output_type": "stream",
          "text": [
            "Input word مسؤلية \n",
            "split_l = [('', 'مسؤلية'), ('م', 'سؤلية'), ('مس', 'ؤلية'), ('مسؤ', 'لية'), ('مسؤل', 'ية'), ('مسؤلي', 'ة'), ('مسؤلية', '')] \n",
            "insert_l = ['امسؤلية', 'أمسؤلية', 'آمسؤلية', 'إمسؤلية', 'بمسؤلية', 'تمسؤلية', 'ثمسؤلية', 'جمسؤلية', 'حمسؤلية', 'خمسؤلية', 'دمسؤلية', 'ذمسؤلية', 'رمسؤلية', 'زمسؤلية', 'سمسؤلية', 'شمسؤلية', 'صمسؤلية', 'ضمسؤلية', 'طمسؤلية', 'ظمسؤلية', 'عمسؤلية', 'غمسؤلية', 'فمسؤلية', 'قمسؤلية', 'كمسؤلية', 'لمسؤلية', 'ممسؤلية', 'نمسؤلية', 'همسؤلية', 'ةمسؤلية', 'ومسؤلية', 'ؤمسؤلية', 'ءمسؤلية', 'يمسؤلية', 'ىمسؤلية', 'ئمسؤلية', 'ماسؤلية', 'مأسؤلية', 'مآسؤلية', 'مإسؤلية', 'مبسؤلية', 'متسؤلية', 'مثسؤلية', 'مجسؤلية', 'محسؤلية', 'مخسؤلية', 'مدسؤلية', 'مذسؤلية', 'مرسؤلية', 'مزسؤلية', 'مسسؤلية', 'مشسؤلية', 'مصسؤلية', 'مضسؤلية', 'مطسؤلية', 'مظسؤلية', 'معسؤلية', 'مغسؤلية', 'مفسؤلية', 'مقسؤلية', 'مكسؤلية', 'ملسؤلية', 'ممسؤلية', 'منسؤلية', 'مهسؤلية', 'مةسؤلية', 'موسؤلية', 'مؤسؤلية', 'مءسؤلية', 'ميسؤلية', 'مىسؤلية', 'مئسؤلية', 'مساؤلية', 'مسأؤلية', 'مسآؤلية', 'مسإؤلية', 'مسبؤلية', 'مستؤلية', 'مسثؤلية', 'مسجؤلية', 'مسحؤلية', 'مسخؤلية', 'مسدؤلية', 'مسذؤلية', 'مسرؤلية', 'مسزؤلية', 'مسسؤلية', 'مسشؤلية', 'مسصؤلية', 'مسضؤلية', 'مسطؤلية', 'مسظؤلية', 'مسعؤلية', 'مسغؤلية', 'مسفؤلية', 'مسقؤلية', 'مسكؤلية', 'مسلؤلية', 'مسمؤلية', 'مسنؤلية', 'مسهؤلية', 'مسةؤلية', 'مسوؤلية', 'مسؤؤلية', 'مسءؤلية', 'مسيؤلية', 'مسىؤلية', 'مسئؤلية', 'مسؤالية', 'مسؤألية', 'مسؤآلية', 'مسؤإلية', 'مسؤبلية', 'مسؤتلية', 'مسؤثلية', 'مسؤجلية', 'مسؤحلية', 'مسؤخلية', 'مسؤدلية', 'مسؤذلية', 'مسؤرلية', 'مسؤزلية', 'مسؤسلية', 'مسؤشلية', 'مسؤصلية', 'مسؤضلية', 'مسؤطلية', 'مسؤظلية', 'مسؤعلية', 'مسؤغلية', 'مسؤفلية', 'مسؤقلية', 'مسؤكلية', 'مسؤللية', 'مسؤملية', 'مسؤنلية', 'مسؤهلية', 'مسؤةلية', 'مسؤولية', 'مسؤؤلية', 'مسؤءلية', 'مسؤيلية', 'مسؤىلية', 'مسؤئلية', 'مسؤلاية', 'مسؤلأية', 'مسؤلآية', 'مسؤلإية', 'مسؤلبية', 'مسؤلتية', 'مسؤلثية', 'مسؤلجية', 'مسؤلحية', 'مسؤلخية', 'مسؤلدية', 'مسؤلذية', 'مسؤلرية', 'مسؤلزية', 'مسؤلسية', 'مسؤلشية', 'مسؤلصية', 'مسؤلضية', 'مسؤلطية', 'مسؤلظية', 'مسؤلعية', 'مسؤلغية', 'مسؤلفية', 'مسؤلقية', 'مسؤلكية', 'مسؤللية', 'مسؤلمية', 'مسؤلنية', 'مسؤلهية', 'مسؤلةية', 'مسؤلوية', 'مسؤلؤية', 'مسؤلءية', 'مسؤليية', 'مسؤلىية', 'مسؤلئية', 'مسؤلياة', 'مسؤليأة', 'مسؤليآة', 'مسؤليإة', 'مسؤليبة', 'مسؤليتة', 'مسؤليثة', 'مسؤليجة', 'مسؤليحة', 'مسؤليخة', 'مسؤليدة', 'مسؤليذة', 'مسؤليرة', 'مسؤليزة', 'مسؤليسة', 'مسؤليشة', 'مسؤليصة', 'مسؤليضة', 'مسؤليطة', 'مسؤليظة', 'مسؤليعة', 'مسؤليغة', 'مسؤليفة', 'مسؤليقة', 'مسؤليكة', 'مسؤليلة', 'مسؤليمة', 'مسؤلينة', 'مسؤليهة', 'مسؤليةة', 'مسؤليوة', 'مسؤليؤة', 'مسؤليءة', 'مسؤليية', 'مسؤليىة', 'مسؤليئة', 'مسؤليةا', 'مسؤليةأ', 'مسؤليةآ', 'مسؤليةإ', 'مسؤليةب', 'مسؤليةت', 'مسؤليةث', 'مسؤليةج', 'مسؤليةح', 'مسؤليةخ', 'مسؤليةد', 'مسؤليةذ', 'مسؤليةر', 'مسؤليةز', 'مسؤليةس', 'مسؤليةش', 'مسؤليةص', 'مسؤليةض', 'مسؤليةط', 'مسؤليةظ', 'مسؤليةع', 'مسؤليةغ', 'مسؤليةف', 'مسؤليةق', 'مسؤليةك', 'مسؤليةل', 'مسؤليةم', 'مسؤليةن', 'مسؤليةه', 'مسؤليةة', 'مسؤليةو', 'مسؤليةؤ', 'مسؤليةء', 'مسؤليةي', 'مسؤليةى', 'مسؤليةئ']\n",
            "Number of strings output by insert_letter('مسؤولية') is 252\n"
          ],
          "name": "stdout"
        }
      ]
    },
    {
      "cell_type": "code",
      "metadata": {
        "id": "NS4P5BBPRQmc"
      },
      "source": [
        "\n",
        "def edit_one_letter(word, allow_switches = True):\n",
        "\n",
        "    \n",
        "    edit_one_set = set()\n",
        "        \n",
        "    edit_one_set.update(delete_letter(word))\n",
        "    if allow_switches:\n",
        "        edit_one_set.update(switch_letter(word))\n",
        "    edit_one_set.update(replace_letter(word))\n",
        "    edit_one_set.update(insert_letter(word))\n",
        "\n",
        "    return edit_one_set"
      ],
      "execution_count": null,
      "outputs": []
    },
    {
      "cell_type": "code",
      "metadata": {
        "colab": {
          "base_uri": "https://localhost:8080/"
        },
        "id": "aTPFZ0YXRQmc",
        "outputId": "dd394da0-7152-42f4-851b-9264f4764b2f"
      },
      "source": [
        "tmp_word = \"مسؤولية\"\n",
        "tmp_edit_one_set = edit_one_letter(tmp_word)\n",
        "tmp_edit_one_l = sorted(list(tmp_edit_one_set))\n",
        "\n",
        "print(f\"input word {tmp_word} \\nedit_one_l \\n{tmp_edit_one_l}\\n\")\n",
        "print(f\"The type of the returned object should be a set {type(tmp_edit_one_set)}\")\n",
        "print(f\"Number of outputs from edit_one_letter('مسؤولية') is {len(edit_one_letter('مسؤولية'))}\")"
      ],
      "execution_count": null,
      "outputs": [
        {
          "output_type": "stream",
          "text": [
            "input word مسؤولية \n",
            "edit_one_l \n",
            "['ءسؤولية', 'ءمسؤولية', 'آسؤولية', 'آمسؤولية', 'أسؤولية', 'أمسؤولية', 'ؤسؤولية', 'ؤمسؤولية', 'إسؤولية', 'إمسؤولية', 'ئسؤولية', 'ئمسؤولية', 'اسؤولية', 'امسؤولية', 'بسؤولية', 'بمسؤولية', 'ةسؤولية', 'ةمسؤولية', 'تسؤولية', 'تمسؤولية', 'ثسؤولية', 'ثمسؤولية', 'جسؤولية', 'جمسؤولية', 'حسؤولية', 'حمسؤولية', 'خسؤولية', 'خمسؤولية', 'دسؤولية', 'دمسؤولية', 'ذسؤولية', 'ذمسؤولية', 'رسؤولية', 'رمسؤولية', 'زسؤولية', 'زمسؤولية', 'سؤولية', 'سسؤولية', 'سمؤولية', 'سمسؤولية', 'شسؤولية', 'شمسؤولية', 'صسؤولية', 'صمسؤولية', 'ضسؤولية', 'ضمسؤولية', 'طسؤولية', 'طمسؤولية', 'ظسؤولية', 'ظمسؤولية', 'عسؤولية', 'عمسؤولية', 'غسؤولية', 'غمسؤولية', 'فسؤولية', 'فمسؤولية', 'قسؤولية', 'قمسؤولية', 'كسؤولية', 'كمسؤولية', 'لسؤولية', 'لمسؤولية', 'مءؤولية', 'مءسؤولية', 'مآؤولية', 'مآسؤولية', 'مأؤولية', 'مأسؤولية', 'مؤؤولية', 'مؤسؤولية', 'مؤسولية', 'مؤولية', 'مإؤولية', 'مإسؤولية', 'مئؤولية', 'مئسؤولية', 'ماؤولية', 'ماسؤولية', 'مبؤولية', 'مبسؤولية', 'مةؤولية', 'مةسؤولية', 'متؤولية', 'متسؤولية', 'مثؤولية', 'مثسؤولية', 'مجؤولية', 'مجسؤولية', 'محؤولية', 'محسؤولية', 'مخؤولية', 'مخسؤولية', 'مدؤولية', 'مدسؤولية', 'مذؤولية', 'مذسؤولية', 'مرؤولية', 'مرسؤولية', 'مزؤولية', 'مزسؤولية', 'مسءؤولية', 'مسءولية', 'مسآؤولية', 'مسآولية', 'مسأؤولية', 'مسأولية', 'مسؤءلية', 'مسؤءولية', 'مسؤآلية', 'مسؤآولية', 'مسؤألية', 'مسؤأولية', 'مسؤؤلية', 'مسؤؤولية', 'مسؤإلية', 'مسؤإولية', 'مسؤئلية', 'مسؤئولية', 'مسؤالية', 'مسؤاولية', 'مسؤبلية', 'مسؤبولية', 'مسؤةلية', 'مسؤةولية', 'مسؤتلية', 'مسؤتولية', 'مسؤثلية', 'مسؤثولية', 'مسؤجلية', 'مسؤجولية', 'مسؤحلية', 'مسؤحولية', 'مسؤخلية', 'مسؤخولية', 'مسؤدلية', 'مسؤدولية', 'مسؤذلية', 'مسؤذولية', 'مسؤرلية', 'مسؤرولية', 'مسؤزلية', 'مسؤزولية', 'مسؤسلية', 'مسؤسولية', 'مسؤشلية', 'مسؤشولية', 'مسؤصلية', 'مسؤصولية', 'مسؤضلية', 'مسؤضولية', 'مسؤطلية', 'مسؤطولية', 'مسؤظلية', 'مسؤظولية', 'مسؤعلية', 'مسؤعولية', 'مسؤغلية', 'مسؤغولية', 'مسؤفلية', 'مسؤفولية', 'مسؤقلية', 'مسؤقولية', 'مسؤكلية', 'مسؤكولية', 'مسؤللية', 'مسؤلولية', 'مسؤلوية', 'مسؤلية', 'مسؤملية', 'مسؤمولية', 'مسؤنلية', 'مسؤنولية', 'مسؤهلية', 'مسؤهولية', 'مسؤوءلية', 'مسؤوءية', 'مسؤوآلية', 'مسؤوآية', 'مسؤوألية', 'مسؤوأية', 'مسؤوؤلية', 'مسؤوؤية', 'مسؤوإلية', 'مسؤوإية', 'مسؤوئلية', 'مسؤوئية', 'مسؤوالية', 'مسؤواية', 'مسؤوبلية', 'مسؤوبية', 'مسؤوةلية', 'مسؤوةية', 'مسؤوتلية', 'مسؤوتية', 'مسؤوثلية', 'مسؤوثية', 'مسؤوجلية', 'مسؤوجية', 'مسؤوحلية', 'مسؤوحية', 'مسؤوخلية', 'مسؤوخية', 'مسؤودلية', 'مسؤودية', 'مسؤوذلية', 'مسؤوذية', 'مسؤورلية', 'مسؤورية', 'مسؤوزلية', 'مسؤوزية', 'مسؤوسلية', 'مسؤوسية', 'مسؤوشلية', 'مسؤوشية', 'مسؤوصلية', 'مسؤوصية', 'مسؤوضلية', 'مسؤوضية', 'مسؤوطلية', 'مسؤوطية', 'مسؤوظلية', 'مسؤوظية', 'مسؤوعلية', 'مسؤوعية', 'مسؤوغلية', 'مسؤوغية', 'مسؤوفلية', 'مسؤوفية', 'مسؤوقلية', 'مسؤوقية', 'مسؤوكلية', 'مسؤوكية', 'مسؤولءة', 'مسؤولءية', 'مسؤولآة', 'مسؤولآية', 'مسؤولأة', 'مسؤولأية', 'مسؤولؤة', 'مسؤولؤية', 'مسؤولإة', 'مسؤولإية', 'مسؤولئة', 'مسؤولئية', 'مسؤولاة', 'مسؤولاية', 'مسؤولبة', 'مسؤولبية', 'مسؤولة', 'مسؤولةة', 'مسؤولةي', 'مسؤولةية', 'مسؤولتة', 'مسؤولتية', 'مسؤولثة', 'مسؤولثية', 'مسؤولجة', 'مسؤولجية', 'مسؤولحة', 'مسؤولحية', 'مسؤولخة', 'مسؤولخية', 'مسؤولدة', 'مسؤولدية', 'مسؤولذة', 'مسؤولذية', 'مسؤولرة', 'مسؤولرية', 'مسؤولزة', 'مسؤولزية', 'مسؤولسة', 'مسؤولسية', 'مسؤولشة', 'مسؤولشية', 'مسؤولصة', 'مسؤولصية', 'مسؤولضة', 'مسؤولضية', 'مسؤولطة', 'مسؤولطية', 'مسؤولظة', 'مسؤولظية', 'مسؤولعة', 'مسؤولعية', 'مسؤولغة', 'مسؤولغية', 'مسؤولفة', 'مسؤولفية', 'مسؤولقة', 'مسؤولقية', 'مسؤولكة', 'مسؤولكية', 'مسؤوللة', 'مسؤوللية', 'مسؤولمة', 'مسؤولمية', 'مسؤولنة', 'مسؤولنية', 'مسؤولهة', 'مسؤولهية', 'مسؤولوة', 'مسؤولوية', 'مسؤولىة', 'مسؤولىية', 'مسؤولي', 'مسؤوليء', 'مسؤوليءة', 'مسؤوليآ', 'مسؤوليآة', 'مسؤوليأ', 'مسؤوليأة', 'مسؤوليؤ', 'مسؤوليؤة', 'مسؤوليإ', 'مسؤوليإة', 'مسؤوليئ', 'مسؤوليئة', 'مسؤوليا', 'مسؤولياة', 'مسؤوليب', 'مسؤوليبة', 'مسؤوليةء', 'مسؤوليةآ', 'مسؤوليةأ', 'مسؤوليةؤ', 'مسؤوليةإ', 'مسؤوليةئ', 'مسؤوليةا', 'مسؤوليةب', 'مسؤوليةة', 'مسؤوليةت', 'مسؤوليةث', 'مسؤوليةج', 'مسؤوليةح', 'مسؤوليةخ', 'مسؤوليةد', 'مسؤوليةذ', 'مسؤوليةر', 'مسؤوليةز', 'مسؤوليةس', 'مسؤوليةش', 'مسؤوليةص', 'مسؤوليةض', 'مسؤوليةط', 'مسؤوليةظ', 'مسؤوليةع', 'مسؤوليةغ', 'مسؤوليةف', 'مسؤوليةق', 'مسؤوليةك', 'مسؤوليةل', 'مسؤوليةم', 'مسؤوليةن', 'مسؤوليةه', 'مسؤوليةو', 'مسؤوليةى', 'مسؤوليةي', 'مسؤوليت', 'مسؤوليتة', 'مسؤوليث', 'مسؤوليثة', 'مسؤوليج', 'مسؤوليجة', 'مسؤوليح', 'مسؤوليحة', 'مسؤوليخ', 'مسؤوليخة', 'مسؤوليد', 'مسؤوليدة', 'مسؤوليذ', 'مسؤوليذة', 'مسؤولير', 'مسؤوليرة', 'مسؤوليز', 'مسؤوليزة', 'مسؤوليس', 'مسؤوليسة', 'مسؤوليش', 'مسؤوليشة', 'مسؤوليص', 'مسؤوليصة', 'مسؤوليض', 'مسؤوليضة', 'مسؤوليط', 'مسؤوليطة', 'مسؤوليظ', 'مسؤوليظة', 'مسؤوليع', 'مسؤوليعة', 'مسؤوليغ', 'مسؤوليغة', 'مسؤوليف', 'مسؤوليفة', 'مسؤوليق', 'مسؤوليقة', 'مسؤوليك', 'مسؤوليكة', 'مسؤوليل', 'مسؤوليلة', 'مسؤوليم', 'مسؤوليمة', 'مسؤولين', 'مسؤولينة', 'مسؤوليه', 'مسؤوليهة', 'مسؤوليو', 'مسؤوليوة', 'مسؤوليى', 'مسؤوليىة', 'مسؤوليي', 'مسؤوليية', 'مسؤوملية', 'مسؤومية', 'مسؤونلية', 'مسؤونية', 'مسؤوهلية', 'مسؤوهية', 'مسؤوولية', 'مسؤووية', 'مسؤوىلية', 'مسؤوىية', 'مسؤوية', 'مسؤويلة', 'مسؤويلية', 'مسؤويية', 'مسؤىلية', 'مسؤىولية', 'مسؤيلية', 'مسؤيولية', 'مسإؤولية', 'مسإولية', 'مسئؤولية', 'مسئولية', 'مساؤولية', 'مساولية', 'مسبؤولية', 'مسبولية', 'مسةؤولية', 'مسةولية', 'مستؤولية', 'مستولية', 'مسثؤولية', 'مسثولية', 'مسجؤولية', 'مسجولية', 'مسحؤولية', 'مسحولية', 'مسخؤولية', 'مسخولية', 'مسدؤولية', 'مسدولية', 'مسذؤولية', 'مسذولية', 'مسرؤولية', 'مسرولية', 'مسزؤولية', 'مسزولية', 'مسسؤولية', 'مسسولية', 'مسشؤولية', 'مسشولية', 'مسصؤولية', 'مسصولية', 'مسضؤولية', 'مسضولية', 'مسطؤولية', 'مسطولية', 'مسظؤولية', 'مسظولية', 'مسعؤولية', 'مسعولية', 'مسغؤولية', 'مسغولية', 'مسفؤولية', 'مسفولية', 'مسقؤولية', 'مسقولية', 'مسكؤولية', 'مسكولية', 'مسلؤولية', 'مسلولية', 'مسمؤولية', 'مسمولية', 'مسنؤولية', 'مسنولية', 'مسهؤولية', 'مسهولية', 'مسوؤلية', 'مسوؤولية', 'مسولية', 'مسوولية', 'مسىؤولية', 'مسىولية', 'مسيؤولية', 'مسيولية', 'مشؤولية', 'مشسؤولية', 'مصؤولية', 'مصسؤولية', 'مضؤولية', 'مضسؤولية', 'مطؤولية', 'مطسؤولية', 'مظؤولية', 'مظسؤولية', 'معؤولية', 'معسؤولية', 'مغؤولية', 'مغسؤولية', 'مفؤولية', 'مفسؤولية', 'مقؤولية', 'مقسؤولية', 'مكؤولية', 'مكسؤولية', 'ملؤولية', 'ملسؤولية', 'ممؤولية', 'ممسؤولية', 'منؤولية', 'منسؤولية', 'مهؤولية', 'مهسؤولية', 'موؤولية', 'موسؤولية', 'مىؤولية', 'مىسؤولية', 'ميؤولية', 'ميسؤولية', 'نسؤولية', 'نمسؤولية', 'هسؤولية', 'همسؤولية', 'وسؤولية', 'ومسؤولية', 'ىسؤولية', 'ىمسؤولية', 'يسؤولية', 'يمسؤولية']\n",
            "\n",
            "The type of the returned object should be a set <class 'set'>\n",
            "Number of outputs from edit_one_letter('مسؤولية') is 539\n"
          ],
          "name": "stdout"
        }
      ]
    },
    {
      "cell_type": "code",
      "metadata": {
        "id": "rqNskYcLRQmd"
      },
      "source": [
        "def edit_two_letters(word, allow_switches = True):\n",
        "    \n",
        "    edit_two_set = set()\n",
        "    edit_one = edit_one_letter(word,allow_switches=allow_switches)\n",
        "    for w in edit_one:\n",
        "        if w:\n",
        "            edit_two = edit_one_letter(w,allow_switches=allow_switches)\n",
        "            edit_two_set.update(edit_two)\n",
        "\n",
        "    return edit_two_set"
      ],
      "execution_count": null,
      "outputs": []
    },
    {
      "cell_type": "code",
      "metadata": {
        "colab": {
          "base_uri": "https://localhost:8080/"
        },
        "id": "c0RoLyfKRQmd",
        "outputId": "093b7247-bab1-4335-d00f-948a7219dd0c"
      },
      "source": [
        "tmp_edit_two_set = edit_two_letters(\"مسؤلية\")\n",
        "tmp_edit_two_l = sorted(list(tmp_edit_two_set))\n",
        "print(f\"Number of strings with edit distance of two: {len(tmp_edit_two_l)}\")\n",
        "print(f\"First 10 strings {tmp_edit_two_l[:10]}\")\n",
        "print(f\"Last 10 strings {tmp_edit_two_l[-10:]}\")\n",
        "print(f\"The data type of the returned object should be a set {type(tmp_edit_two_set)}\")\n",
        "print(f\"Number of strings that are 2 edit distances from 'at' is {len(edit_two_letters('مسؤولية'))}\")"
      ],
      "execution_count": null,
      "outputs": [
        {
          "output_type": "stream",
          "text": [
            "Number of strings with edit distance of two: 100680\n",
            "First 10 strings ['ءءؤلية', 'ءءسؤلية', 'ءءمسؤلية', 'ءآؤلية', 'ءآسؤلية', 'ءآمسؤلية', 'ءأؤلية', 'ءأسؤلية', 'ءأمسؤلية', 'ءؤؤلية']\n",
            "Last 10 strings ['يهمسؤلية', 'يوؤلية', 'يوسؤلية', 'يومسؤلية', 'يىؤلية', 'يىسؤلية', 'يىمسؤلية', 'ييؤلية', 'ييسؤلية', 'ييمسؤلية']\n",
            "The data type of the returned object should be a set <class 'set'>\n",
            "Number of strings that are 2 edit distances from 'at' is 135344\n"
          ],
          "name": "stdout"
        }
      ]
    },
    {
      "cell_type": "code",
      "metadata": {
        "id": "FKEo738LRQmf"
      },
      "source": [
        "\n",
        "def get_corrections(word, probs, vocab, n=2, verbose = False):\n",
        "\n",
        "    \n",
        "    suggestions = []\n",
        "    n_best = []\n",
        "    \n",
        "    suggestions = list((word in vocab and word) or edit_one_letter(word).intersection(vocab) or edit_two_letters(word).intersection(vocab))\n",
        "    n_best = [[s,probs[s]] for s in list(reversed(suggestions))]\n",
        "    \n",
        "    if verbose: print(\"suggestions = \", suggestions)\n",
        "\n",
        "    return n_best"
      ],
      "execution_count": null,
      "outputs": []
    },
    {
      "cell_type": "code",
      "metadata": {
        "colab": {
          "base_uri": "https://localhost:8080/"
        },
        "id": "ulqhyEB3RQmf",
        "outputId": "7010e5b7-6ab4-43ad-b832-47a8c300203a"
      },
      "source": [
        "my_word = 'الفرعجيه' \n",
        "tmp_corrections = get_corrections(my_word, probs, vocab, 2, verbose=False)\n",
        "for i, word_prob in enumerate(tmp_corrections):\n",
        "    print(f\"word {i}: {word_prob[0]}, probability {word_prob[1]:.6f}\")\n",
        "\n"
      ],
      "execution_count": null,
      "outputs": [
        {
          "output_type": "stream",
          "text": [
            "word 0: الفرعية, probability 0.000001\n"
          ],
          "name": "stdout"
        }
      ]
    },
    {
      "cell_type": "code",
      "metadata": {
        "colab": {
          "base_uri": "https://localhost:8080/"
        },
        "id": "D-MwI0f65uMF",
        "outputId": "edfe0e1e-0f6b-43fa-f86a-1c877aef4351"
      },
      "source": [
        "fileList = readFile(testPath)\n",
        "errordict = findErrors(dicList , fileList )\n",
        "errorList = list(errordict.keys())\n",
        "printErrors(errorList)"
      ],
      "execution_count": null,
      "outputs": [
        {
          "output_type": "stream",
          "text": [
            "The Misspelled words are : \n",
            "العرجم\n",
            "عمجلة\n"
          ],
          "name": "stdout"
        }
      ]
    },
    {
      "cell_type": "code",
      "metadata": {
        "colab": {
          "base_uri": "https://localhost:8080/"
        },
        "id": "VuqiWhv6MaqS",
        "outputId": "08def830-71ab-487f-a1d1-8989a34e7cc6"
      },
      "source": [
        "fileList"
      ],
      "execution_count": null,
      "outputs": [
        {
          "output_type": "execute_result",
          "data": {
            "text/plain": [
              "['اللغة', 'العرجم', 'عمجلة']"
            ]
          },
          "metadata": {
            "tags": []
          },
          "execution_count": 164
        }
      ]
    },
    {
      "cell_type": "code",
      "metadata": {
        "colab": {
          "base_uri": "https://localhost:8080/"
        },
        "id": "YeU0TNNH0zuD",
        "outputId": "c8cca31f-e22c-4935-d83a-ad9dc2e9d549"
      },
      "source": [
        "fileL = fileList.copy()\n",
        "mywords = errordict.keys()\n",
        "for my_word in mywords:\n",
        "  print('-'*50)\n",
        "  print('Wrong word :' ,my_word)\n",
        "  tmp_corrections = get_corrections(my_word, probs, vocab, 2, verbose=False)\n",
        "\n",
        "  for i, word_prob in enumerate(tmp_corrections):\n",
        "    print(f\"word {i}: {word_prob[0]}, probability {word_prob[1]:.6f}\")\n",
        "    fileL[errordict[my_word]] = word_prob[0]\n",
        "    #print(' '.join(fileL))\n",
        "    \n",
        "\n",
        "  print('-'*50)\n",
        "  print('\\n')"
      ],
      "execution_count": null,
      "outputs": [
        {
          "output_type": "stream",
          "text": [
            "--------------------------------------------------\n",
            "Wrong word : العرجم\n",
            "word 0: العجم, probability 0.000006\n",
            "word 1: الرجم, probability 0.000001\n",
            "--------------------------------------------------\n",
            "\n",
            "\n",
            "--------------------------------------------------\n",
            "Wrong word : عمجلة\n",
            "word 0: عمالة, probability 0.000019\n",
            "word 1: عمولة, probability 0.000002\n",
            "word 2: عجلة, probability 0.000011\n",
            "word 3: عميلة, probability 0.000039\n",
            "word 4: مجلة, probability 0.000005\n",
            "word 5: معجلة, probability 0.000001\n",
            "word 6: عملة, probability 0.000008\n",
            "word 7: عاجلة, probability 0.000006\n",
            "--------------------------------------------------\n",
            "\n",
            "\n"
          ],
          "name": "stdout"
        }
      ]
    },
    {
      "cell_type": "code",
      "metadata": {
        "colab": {
          "base_uri": "https://localhost:8080/"
        },
        "id": "hjdM9eTbKmnT",
        "outputId": "b35bbf1a-0232-445d-b156-1075e1dbcfee"
      },
      "source": [
        "mywords = errordict.keys()\n",
        "for my_word in mywords:\n",
        "  tmp_corrections = get_corrections(my_word, probs, vocab, 2, verbose=False)\n",
        "  fileL[errordict[my_word]] = tmp_corrections[0][0]\n",
        "\n",
        "print('org:' , ' '.join(fileList))\n",
        "print('corr:' , ' '.join(fileL))"
      ],
      "execution_count": null,
      "outputs": [
        {
          "output_type": "stream",
          "text": [
            "org: اللغة العرجم عمجلة\n",
            "corr: اللغة العجم عمالة\n"
          ],
          "name": "stdout"
        }
      ]
    },
    {
      "cell_type": "markdown",
      "metadata": {
        "id": "nu4wBWgiRQmg"
      },
      "source": [
        "\n",
        "#Minimum Edit distance\n"
      ]
    },
    {
      "cell_type": "code",
      "metadata": {
        "id": "qlLNALtFRQmj"
      },
      "source": [
        "\n",
        "def min_edit_distance(source, target, ins_cost = 1, del_cost = 1, rep_cost = 2):\n",
        "    '''\n",
        "    Input: \n",
        "        source: a string corresponding to the string you are starting with\n",
        "        target: a string corresponding to the string you want to end with\n",
        "        ins_cost: an integer setting the insert cost\n",
        "        del_cost: an integer setting the delete cost\n",
        "        rep_cost: an integer setting the replace cost\n",
        "    Output:\n",
        "        D: a matrix of len(source)+1 by len(target)+1 containing minimum edit distances\n",
        "        med: the minimum edit distance (med) required to convert the source string to the target\n",
        "    '''\n",
        "    # use deletion and insert cost as  1\n",
        "    m = len(source)\n",
        "    n = len(target)\n",
        "\n",
        "    #initialize cost matrix with zeros and dimensions (m+1,n+1) \n",
        "    D = np.zeros((m+1, n+1), dtype=int) \n",
        "    \n",
        "    # Fill in column 0, from row 1 to row m\n",
        "    for row in range(1,m+1): # Replace None with the proper range\n",
        "        D[row,0] = D[row-1,0] + del_cost\n",
        "        \n",
        "    # Fill in row 0, for all columns from 1 to n\n",
        "    for col in range(1,n+1): # Replace None with the proper range\n",
        "        D[0,col] = D[0,col-1] + ins_cost\n",
        "        \n",
        "    # Loop through row 1 to row m\n",
        "    for row in range(1,m+1): \n",
        "        \n",
        "        # Loop through column 1 to column n\n",
        "        for col in range(1,n+1):\n",
        "            \n",
        "            # Intialize r_cost to the 'replace' cost that is passed into this function\n",
        "            r_cost = rep_cost\n",
        "            \n",
        "            # Check to see if source character at the previous row\n",
        "            # matches the target character at the previous column, \n",
        "            if source[row-1] == target[col-1]:\n",
        "                # Update the replacement cost to 0 if source and target are the same\n",
        "                r_cost = 0\n",
        "                \n",
        "            # Update the cost at row, col based on previous entries in the cost matrix\n",
        "            # Refer to the equation calculate for D[i,j] (the minimum of three calculated costs)\n",
        "            D[row,col] = min([D[row-1,col]+del_cost, D[row,col-1]+ins_cost, D[row-1,col-1]+r_cost])\n",
        "          \n",
        "    # Set the minimum edit distance with the cost found at row m, column n\n",
        "    med = D[m,n]\n",
        "    \n",
        "    return D, med"
      ],
      "execution_count": null,
      "outputs": []
    },
    {
      "cell_type": "code",
      "metadata": {
        "id": "GrttkTE6RQmk",
        "colab": {
          "base_uri": "https://localhost:8080/"
        },
        "outputId": "b2ae517e-1694-4e23-ce78-7f9a0a628549"
      },
      "source": [
        "# testing your implementation \n",
        "source =  'علي'\n",
        "target = 'اشرف'\n",
        "matrix, min_edits = min_edit_distance(source, target)\n",
        "print(\"minimum edits: \",min_edits, \"\\n\")\n",
        "idx = list(source)\n",
        "idx.insert(0, '#')\n",
        "cols = list(target)\n",
        "cols.insert(0, '#')\n",
        "df = pd.DataFrame(matrix, index=idx, columns= cols)\n",
        "print(df)"
      ],
      "execution_count": null,
      "outputs": [
        {
          "output_type": "stream",
          "text": [
            "minimum edits:  7 \n",
            "\n",
            "   #  ا  ش  ر  ف\n",
            "#  0  1  2  3  4\n",
            "ع  1  2  3  4  5\n",
            "ل  2  3  4  5  6\n",
            "ي  3  4  5  6  7\n"
          ],
          "name": "stdout"
        }
      ]
    },
    {
      "cell_type": "markdown",
      "metadata": {
        "id": "Q3pGxl_cRQmk"
      },
      "source": [
        "We can now test several of our routines at once:"
      ]
    },
    {
      "cell_type": "code",
      "metadata": {
        "id": "YXlwMCEKRQmk"
      },
      "source": [
        "source = \"الفرعجيه\"\n",
        "targets = edit_one_letter(source,allow_switches = False)  #disable switches since min_edit_distance does not include them\n",
        "for t in targets:\n",
        "    _, min_edits = min_edit_distance(source, t,1,1,1)  # set ins, del, sub costs all to one\n",
        "    if min_edits != 1: print(source, t, min_edits)"
      ],
      "execution_count": null,
      "outputs": []
    },
    {
      "cell_type": "code",
      "metadata": {
        "id": "-eUzdTtGmRLy"
      },
      "source": [
        "targets"
      ],
      "execution_count": null,
      "outputs": []
    },
    {
      "cell_type": "code",
      "metadata": {
        "id": "ItSEDTiRRQml",
        "colab": {
          "base_uri": "https://localhost:8080/"
        },
        "outputId": "3018f74e-f744-4ba1-8c8f-10a5c32dda22"
      },
      "source": [
        "source = \"الفرعجيه\"\n",
        "targets = edit_two_letters(source,allow_switches = False) #disable switches since min_edit_distance does not include them\n",
        "for t in targets:\n",
        "    _, min_edits = min_edit_distance(source, t,1,1,1)  # set ins, del, sub costs all to one\n",
        "    if min_edits != 2 and min_edits != 1: print(source, t, min_edits)"
      ],
      "execution_count": null,
      "outputs": [
        {
          "output_type": "stream",
          "text": [
            "الفرعجيه الفرعجيه 0\n"
          ],
          "name": "stdout"
        }
      ]
    },
    {
      "cell_type": "code",
      "metadata": {
        "colab": {
          "base_uri": "https://localhost:8080/"
        },
        "id": "c-xcIhAUmYfd",
        "outputId": "f1d7af7a-01f9-4cf4-9806-4dd51a0c5ecf"
      },
      "source": [
        "targets"
      ],
      "execution_count": null,
      "outputs": [
        {
          "output_type": "execute_result",
          "data": {
            "text/plain": [
              "{'لفرعصيه',\n",
              " 'شالفوعجيه',\n",
              " 'الافؤرعجيه',\n",
              " 'ولفرعجغيه',\n",
              " 'اثلفرعجيثه',\n",
              " 'زلفرعجيسه',\n",
              " 'الإفرعضجيه',\n",
              " 'الفراجيهؤ',\n",
              " 'اغفرعجيظ',\n",
              " 'الفآرعجبيه',\n",
              " 'جالفإعجيه',\n",
              " 'العفرعجايه',\n",
              " 'ضلفرعجينه',\n",
              " 'الفرىجيف',\n",
              " 'الطفرعذجيه',\n",
              " 'الؤرعجئيه',\n",
              " 'الدرعجيهي',\n",
              " 'الفرعإثجيه',\n",
              " 'كظفرعجيه',\n",
              " 'صالفنرعجيه',\n",
              " 'اخلفرعجيإه',\n",
              " 'الفغنرعجيه',\n",
              " 'الفرعجإهآ',\n",
              " 'العفرعجيهئ',\n",
              " 'لالفرعجريه',\n",
              " 'الهفرعجيأ',\n",
              " 'الأىرعجيه',\n",
              " 'اآفرعجيهف',\n",
              " 'الضرئجيه',\n",
              " 'الفرعجيلش',\n",
              " 'امفرإعجيه',\n",
              " 'الفريعشجيه',\n",
              " 'الذرعجية',\n",
              " 'النرعحيه',\n",
              " 'يالفرعجئه',\n",
              " 'الىفئرعجيه',\n",
              " 'افلفرصجيه',\n",
              " 'ىالفرعجيت',\n",
              " 'ألفرعجيهى',\n",
              " 'الؤرعذيه',\n",
              " 'تالفرعجقه',\n",
              " 'الفرعيجيذه',\n",
              " 'الظفرعجيس',\n",
              " 'الفرعجهو',\n",
              " 'الفرعجيهةب',\n",
              " 'ذلفيرعجيه',\n",
              " 'النرعصجيه',\n",
              " 'الةعرعجيه',\n",
              " 'الخفرعجيهط',\n",
              " 'ئلفسرعجيه',\n",
              " 'الفرىعليه',\n",
              " 'الففعجيهل',\n",
              " 'جالفرعخجيه',\n",
              " 'اقفرعسيه',\n",
              " 'الفركعجيهص',\n",
              " 'الءفرعثجيه',\n",
              " 'اءللفرعجيه',\n",
              " 'الفرآجيص',\n",
              " 'الفرعجةهك',\n",
              " 'الفجرعجيج',\n",
              " 'اءلفرعجييه',\n",
              " 'احلضرعجيه',\n",
              " 'الهفترعجيه',\n",
              " 'الؤفأعجيه',\n",
              " 'الفرفعجليه',\n",
              " 'اشلءفرعجيه',\n",
              " 'اعلفرعجآه',\n",
              " 'الفرشجيئه',\n",
              " 'اهفرعطيه',\n",
              " 'ظالفصعجيه',\n",
              " 'الفرعجليز',\n",
              " 'ئلفرعثيه',\n",
              " 'هالفرعجيفه',\n",
              " 'قالفرعجظيه',\n",
              " 'اقفرعجيهى',\n",
              " 'البرعنجيه',\n",
              " 'الفرىجهه',\n",
              " 'الفرضعءيه',\n",
              " 'الفرتجيهت',\n",
              " 'الفرشعجهه',\n",
              " 'غالفرعجعيه',\n",
              " 'الفرعورجيه',\n",
              " 'سلفحعجيه',\n",
              " 'إلبرعجيه',\n",
              " 'اذلءفرعجيه',\n",
              " 'الفسعجيهث',\n",
              " 'الفرجعجيطه',\n",
              " 'الحرعجيهه',\n",
              " 'ؤإالفرعجيه',\n",
              " 'دللفرعجيه',\n",
              " 'الشفرعةيه',\n",
              " 'الفثرعجيت',\n",
              " 'الفرعجيظؤ',\n",
              " 'ظادلفرعجيه',\n",
              " 'الفرؤذجيه',\n",
              " 'حايلفرعجيه',\n",
              " 'آلفرعجقيه',\n",
              " 'الفرحجهه',\n",
              " 'الفرعمخجيه',\n",
              " 'الفرعجيفهك',\n",
              " 'الفرمجحيه',\n",
              " 'الصفصرعجيه',\n",
              " 'خالرفرعجيه',\n",
              " 'ءلفرعجآه',\n",
              " 'يالفرعجيزه',\n",
              " 'الةرعجيءه',\n",
              " 'اظفةرعجيه',\n",
              " 'الثرعجيو',\n",
              " 'الظفرعجيةه',\n",
              " 'الفكرعجيفه',\n",
              " 'ةلفرعجريه',\n",
              " 'الفرظعيه',\n",
              " 'والفيعجيه',\n",
              " 'ادفغعجيه',\n",
              " 'الفرؤءعجيه',\n",
              " 'الفرعجيظهق',\n",
              " 'الفرظعجيهآ',\n",
              " 'الفرقعجخيه',\n",
              " 'الفشرعجيةه',\n",
              " 'الفرعلتجيه',\n",
              " 'الففعجيفه',\n",
              " 'الفرعجيهشض',\n",
              " 'ازلففرعجيه',\n",
              " 'البرعجيهح',\n",
              " 'الذرعجيؤ',\n",
              " 'الفإنرعجيه',\n",
              " 'اىفركجيه',\n",
              " 'الفإرعجيآ',\n",
              " 'الفذعجيله',\n",
              " 'طالصفرعجيه',\n",
              " 'البفرعجةيه',\n",
              " 'الفرحعجغيه',\n",
              " 'إلفةرعجيه',\n",
              " 'الفرعجيهسء',\n",
              " 'جلفرذجيه',\n",
              " 'األفرعجيش',\n",
              " 'احلفرعجيقه',\n",
              " 'اةترعجيه',\n",
              " 'امشرعجيه',\n",
              " 'هلفرعصجيه',\n",
              " 'نالذرعجيه',\n",
              " 'الفرحجيهإ',\n",
              " 'الفروجبيه',\n",
              " 'الفنعفيه',\n",
              " 'الفغرعخجيه',\n",
              " 'الفرعجأجه',\n",
              " 'الفةرعججه',\n",
              " 'الفذطعجيه',\n",
              " 'التفرأعجيه',\n",
              " 'الفخضرعجيه',\n",
              " 'افلدرعجيه',\n",
              " 'الرعديه',\n",
              " 'اىفرعجعه',\n",
              " 'الفرعخزيه',\n",
              " 'اسلمرعجيه',\n",
              " 'اهفرعأيه',\n",
              " 'الفدرعجئيه',\n",
              " 'الفكعجيهى',\n",
              " 'الفجعجغيه',\n",
              " 'اهفرعجيئه',\n",
              " 'الفربعجيد',\n",
              " 'خاصفرعجيه',\n",
              " 'الفرعطةيه',\n",
              " 'الفرؤعجيهف',\n",
              " 'الأرعجيأ',\n",
              " 'الفدضرعجيه',\n",
              " 'شلفرعجيئ',\n",
              " 'طلفرعظيه',\n",
              " 'الفرعكجيجه',\n",
              " 'جلزرعجيه',\n",
              " 'الفرسعجيظ',\n",
              " 'الفذرعجيآه',\n",
              " 'الصرعجيهب',\n",
              " 'الفرئحيه',\n",
              " 'الفرظعجيره',\n",
              " 'الفرعذغيه',\n",
              " 'الفرىحعجيه',\n",
              " 'الفرعخيجيه',\n",
              " 'طلفرآجيه',\n",
              " 'ائفرعجييه',\n",
              " 'اذفرعجظه',\n",
              " 'احلجفرعجيه',\n",
              " 'الفاعجيهة',\n",
              " 'اىلفرعجيضه',\n",
              " 'كالفرعجيهح',\n",
              " 'يلفترعجيه',\n",
              " 'جالفرعجيهء',\n",
              " 'الحفةرعجيه',\n",
              " 'قلفرحجيه',\n",
              " 'دلفراعجيه',\n",
              " 'فاذفرعجيه',\n",
              " 'قلفرعجيف',\n",
              " 'الفرعجغعيه',\n",
              " 'اغلفبرعجيه',\n",
              " 'ثلحرعجيه',\n",
              " 'الفععجيخه',\n",
              " 'أالفرتعجيه',\n",
              " 'ولفرعئجيه',\n",
              " 'دالفرعجيعه',\n",
              " 'الفعجطيه',\n",
              " 'الةىرعجيه',\n",
              " 'الظفرعجيهي',\n",
              " 'الفدعجيهخ',\n",
              " 'الفرعجيهاإ',\n",
              " 'اسفرعأيه',\n",
              " 'الفرعشيس',\n",
              " 'هالفئرعجيه',\n",
              " 'احفصرعجيه',\n",
              " 'الفرئجيهإ',\n",
              " 'ملفرمجيه',\n",
              " 'اءلفعرعجيه',\n",
              " 'الفرذعوجيه',\n",
              " 'اسفرعجيط',\n",
              " 'كلعرعجيه',\n",
              " 'الفرعظجخه',\n",
              " 'اافنرعجيه',\n",
              " 'اغفرلجيه',\n",
              " 'رالفريعجيه',\n",
              " 'غالفرعجيخ',\n",
              " 'الفرعجيهؤج',\n",
              " 'المفرعجضيه',\n",
              " 'الفرعجيهىه',\n",
              " 'الجرعجآيه',\n",
              " 'ثلفرعيه',\n",
              " 'ىالذرعجيه',\n",
              " 'ارلخرعجيه',\n",
              " 'العرعجيله',\n",
              " 'خلفرعنجيه',\n",
              " 'البفرعجته',\n",
              " 'الخفرعجيهن',\n",
              " 'اغفإعجيه',\n",
              " 'اشلفرغعجيه',\n",
              " 'اؤلفكعجيه',\n",
              " 'صلفرعجين',\n",
              " 'الفرعجويذه',\n",
              " 'احفرعئيه',\n",
              " 'الفرعجآآه',\n",
              " 'بالفرعجؤيه',\n",
              " 'رلفرعجظه',\n",
              " 'العفرؤجيه',\n",
              " 'بتفرعجيه',\n",
              " 'فلفرعجيقه',\n",
              " 'اغلفرعىجيه',\n",
              " 'الررعتيه',\n",
              " 'الئضعجيه',\n",
              " 'اصفرعئجيه',\n",
              " 'الفرعهجريه',\n",
              " 'اسلسفرعجيه',\n",
              " 'اإلفرفعجيه',\n",
              " 'الفريجيف',\n",
              " 'الطرعجيصه',\n",
              " 'الفسرعنجيه',\n",
              " 'الفرعجذية',\n",
              " 'الهرعجيكه',\n",
              " 'غلفرتعجيه',\n",
              " 'الفرعجيؤهس',\n",
              " 'الفريأيه',\n",
              " 'الجفعجيه',\n",
              " 'اطلفرعجيت',\n",
              " 'ناليفرعجيه',\n",
              " 'ارفهعجيه',\n",
              " 'اؤلفرعججه',\n",
              " 'ىلضرعجيه',\n",
              " 'الفررعجةيه',\n",
              " 'الفرعهيإه',\n",
              " 'الفرخعجيخ',\n",
              " 'الفرأجيشه',\n",
              " 'ثالفظرعجيه',\n",
              " 'الآوعجيه',\n",
              " 'النفرعجيهء',\n",
              " 'أالفرعجيهإ',\n",
              " 'اطلفحرعجيه',\n",
              " 'اوفرعجأيه',\n",
              " 'فالفرعجغه',\n",
              " 'الفعيعجيه',\n",
              " 'اثلفرعجيظه',\n",
              " 'الفاعجيج',\n",
              " 'رالفرءعجيه',\n",
              " 'الفرظحجيه',\n",
              " 'الفرعجييثه',\n",
              " 'حلفرعجخه',\n",
              " 'اىعرعجيه',\n",
              " 'ذالإرعجيه',\n",
              " 'الزفرعبيه',\n",
              " 'ملفرعجظه',\n",
              " 'الفرعجغخيه',\n",
              " 'الفررجآه',\n",
              " 'الفرعجعيهض',\n",
              " 'الفرعرجيءه',\n",
              " 'ؤالفرعجيطه',\n",
              " 'الفرعرطيه',\n",
              " 'ولفرعجشه',\n",
              " 'الفرععجيهق',\n",
              " 'اتقفرعجيه',\n",
              " 'الضهرعجيه',\n",
              " 'الفرهعجريه',\n",
              " 'حالفترعجيه',\n",
              " 'الئفرقجيه',\n",
              " 'الفرعخبيه',\n",
              " 'جالفرعسجيه',\n",
              " 'االفرعجيحه',\n",
              " 'اتلفرعىيه',\n",
              " 'الفىرعجيهز',\n",
              " 'الفنعجبه',\n",
              " 'الفرغجيكه',\n",
              " 'الفراجمه',\n",
              " 'الفرعغيإ',\n",
              " 'اةفرعجآيه',\n",
              " 'جلفرعىيه',\n",
              " 'اءفنعجيه',\n",
              " 'الفرذجيهئ',\n",
              " 'الجرعنجيه',\n",
              " 'تالثرعجيه',\n",
              " 'الفرعجحريه',\n",
              " 'السرعجيإه',\n",
              " 'افلفذعجيه',\n",
              " 'نلفحرعجيه',\n",
              " 'الفرعرجءيه',\n",
              " 'تلفلعجيه',\n",
              " 'الفبرعجيد',\n",
              " 'اجفرعجظيه',\n",
              " 'الدرععجيه',\n",
              " 'تالفرعجيج',\n",
              " 'ولفرزجيه',\n",
              " 'الفسرعثجيه',\n",
              " 'الشفةعجيه',\n",
              " 'الفربعسجيه',\n",
              " 'الفرعجةد',\n",
              " 'رلفبرعجيه',\n",
              " 'ززلفرعجيه',\n",
              " 'الىرعآجيه',\n",
              " 'الهردعجيه',\n",
              " 'الفرعجؤعه',\n",
              " 'الفرعأكيه',\n",
              " 'الفركسيه',\n",
              " 'الفرعجقي',\n",
              " 'الفريجياه',\n",
              " 'والفرعجيد',\n",
              " 'الإفركعجيه',\n",
              " 'رالفترعجيه',\n",
              " 'ولفرعجريه',\n",
              " 'الفرعديهش',\n",
              " 'ولدفرعجيه',\n",
              " 'الفرئقيه',\n",
              " 'ةالفرعجتيه',\n",
              " 'الفرعسيهل',\n",
              " 'الزفععجيه',\n",
              " 'امفحرعجيه',\n",
              " 'اذفععجيه',\n",
              " 'حلفرعىيه',\n",
              " 'ىالفرعجايه',\n",
              " 'الفحعذجيه',\n",
              " 'كلفرظعجيه',\n",
              " 'ؤلفرعجقيه',\n",
              " 'الفرشعجيهآ',\n",
              " 'البفرعجيهب',\n",
              " 'اكلفرعجنيه',\n",
              " 'الفرعجئص',\n",
              " 'كزفرعجيه',\n",
              " 'الفرعذجيصه',\n",
              " 'الفرعجتاه',\n",
              " 'الفرجعجله',\n",
              " 'الفرعجإييه',\n",
              " 'الفأرعجليه',\n",
              " 'الفإرعجين',\n",
              " 'الغفرنجيه',\n",
              " 'اشلفرضجيه',\n",
              " 'الغرعذجيه',\n",
              " 'ارلوفرعجيه',\n",
              " 'الكخفرعجيه',\n",
              " 'الفءرعجميه',\n",
              " 'اؤفرعجيؤ',\n",
              " 'النرعجيؤ',\n",
              " 'الفءعجظه',\n",
              " 'الفرزعجغيه',\n",
              " 'اضلفرةعجيه',\n",
              " 'طلفرجعجيه',\n",
              " 'الفرعقره',\n",
              " 'اقطلفرعجيه',\n",
              " 'الثرعجيهح',\n",
              " 'لالفرمجيه',\n",
              " 'الفصرعجيج',\n",
              " 'ضلفرعجيهأ',\n",
              " 'الويعجيه',\n",
              " 'الفرىجتيه',\n",
              " 'الفريعغجيه',\n",
              " 'الفمرثعجيه',\n",
              " 'ماءفرعجيه',\n",
              " 'الفرعجكخ',\n",
              " 'الفىعجبيه',\n",
              " 'علحفرعجيه',\n",
              " 'الصفرعجيآ',\n",
              " 'الفقعجيق',\n",
              " 'إلفرعجيهخ',\n",
              " 'ملفئرعجيه',\n",
              " 'الفرعزجإيه',\n",
              " 'حلفروجيه',\n",
              " 'الغفرعجيغ',\n",
              " 'طلفإرعجيه',\n",
              " 'إلفرعجيحه',\n",
              " 'افرعتجيه',\n",
              " 'الفشغعجيه',\n",
              " 'إلفرعجيل',\n",
              " 'الفخرعجيهة',\n",
              " 'اأفرعجيهئ',\n",
              " 'ضلفرععيه',\n",
              " 'ئلفرعجقه',\n",
              " 'اطفشرعجيه',\n",
              " 'الفؤرعجبه',\n",
              " 'الغفرعجزيه',\n",
              " 'اليرعجه',\n",
              " 'الحشرعجيه',\n",
              " 'الاءعجيه',\n",
              " 'الفرحعةيه',\n",
              " 'اىلفضعجيه',\n",
              " 'الفغرزجيه',\n",
              " 'الفهمعجيه',\n",
              " 'الحرعتجيه',\n",
              " 'الفغرعجيهع',\n",
              " 'الفرعكفه',\n",
              " 'الفرعجيموه',\n",
              " 'اللجفرعجيه',\n",
              " 'الزفرعجمه',\n",
              " 'الفعزجيه',\n",
              " 'الررعجيءه',\n",
              " 'اقلفرعجيهآ',\n",
              " 'المفرإعجيه',\n",
              " 'الفئئرعجيه',\n",
              " 'آلفلرعجيه',\n",
              " 'الفرذعجيهق',\n",
              " 'الفرحعجياه',\n",
              " 'الفظرعجعه',\n",
              " 'الفإعجيهء',\n",
              " 'الفرعجيهأف',\n",
              " 'اهفرعجؤه',\n",
              " 'عالفرعجيهآ',\n",
              " 'الفقرفجيه',\n",
              " 'الفرةعجعيه',\n",
              " 'فالفرعديه',\n",
              " 'الفرزعجيهو',\n",
              " 'قالفءعجيه',\n",
              " 'الفحعويه',\n",
              " 'الفسعجية',\n",
              " 'دالفرعجفيه',\n",
              " 'اىفرعهجيه',\n",
              " 'حلفرعجينه',\n",
              " 'الخرعجيؤ',\n",
              " 'اشفرجيه',\n",
              " 'والورعجيه',\n",
              " 'الفررعجيهن',\n",
              " 'الفسرعءجيه',\n",
              " 'الفرصجه',\n",
              " 'الخرسجيه',\n",
              " 'الفؤعجيإ',\n",
              " 'الغرعجه',\n",
              " 'النفىرعجيه',\n",
              " 'اضفرعجيىه',\n",
              " 'اعئلفرعجيه',\n",
              " 'ثلفردعجيه',\n",
              " 'الفرعجيوهأ',\n",
              " 'ظلفرعججه',\n",
              " 'الفرشأيه',\n",
              " 'الفرنضجيه',\n",
              " 'الثفرصعجيه',\n",
              " 'ىالفرعديه',\n",
              " 'إلفرعخيه',\n",
              " 'الفرعجإقيه',\n",
              " 'الفرعجئيظه',\n",
              " 'الثفرعجفه',\n",
              " 'شلفآرعجيه',\n",
              " 'الذفرعجيطه',\n",
              " 'شلوفرعجيه',\n",
              " 'الءفرعجيشه',\n",
              " 'الفغرعجتيه',\n",
              " 'الضرعجئه',\n",
              " 'الءرعلجيه',\n",
              " 'الفارعجيهر',\n",
              " 'الدرعجؤه',\n",
              " 'كلفراعجيه',\n",
              " 'اعلفرعؤيه',\n",
              " 'الآضرعجيه',\n",
              " 'الفرعىيق',\n",
              " 'الفرأصيه',\n",
              " 'الوفرججيه',\n",
              " 'الفآعجخيه',\n",
              " 'ئلفهعجيه',\n",
              " 'اؤفرعءيه',\n",
              " 'الفرعآكجيه',\n",
              " 'يلفرعجبيه',\n",
              " 'ارفرعجذيه',\n",
              " 'الإطفرعجيه',\n",
              " 'الثفرعجغيه',\n",
              " 'اجهفرعجيه',\n",
              " 'اليرعجضه',\n",
              " 'عجفرعجيه',\n",
              " 'الرفراجيه',\n",
              " 'اطلفرعجسه',\n",
              " 'الفرؤعجيق',\n",
              " 'زافلفرعجيه',\n",
              " 'الفرنعجىه',\n",
              " 'اللفرعجؤيه',\n",
              " 'الكفرعجآيه',\n",
              " 'الفذرؤعجيه',\n",
              " 'الفرئعجياه',\n",
              " 'اخلفرعجذيه',\n",
              " 'الفتءرعجيه',\n",
              " 'قالفععجيه',\n",
              " 'الفنروجيه',\n",
              " 'اشللرعجيه',\n",
              " 'الفرعجيدظ',\n",
              " 'ائفرعيجيه',\n",
              " 'افرظعجيه',\n",
              " 'اآلفدرعجيه',\n",
              " 'الفارعجية',\n",
              " 'الفطعجوه',\n",
              " 'الظفرعجياه',\n",
              " 'الفرعجيهأه',\n",
              " 'الفرةجيغ',\n",
              " 'الفرعصجيهغ',\n",
              " 'الأفرئجيه',\n",
              " 'كالفرعجيها',\n",
              " 'الفرعستيه',\n",
              " 'ؤلفرعغيه',\n",
              " 'الفرإهعجيه',\n",
              " 'فذلفرعجيه',\n",
              " 'ءلةرعجيه',\n",
              " 'الفعرعاجيه',\n",
              " 'الفرعطيهظ',\n",
              " 'شلفرعشيه',\n",
              " 'اهفرعإيه',\n",
              " 'الفرعسيهش',\n",
              " 'دلففرعجيه',\n",
              " 'كالفرعجيهه',\n",
              " 'الآرعلجيه',\n",
              " 'الفرذعجيإه',\n",
              " 'ااففرعجيه',\n",
              " 'اخلفرعايه',\n",
              " 'اذفرعجيق',\n",
              " 'مؤلفرعجيه',\n",
              " 'الفرإعجيهد',\n",
              " 'الضرعجيه',\n",
              " 'الفرعجيهثظ',\n",
              " 'الفرعكجيهر',\n",
              " 'ظالفربعجيه',\n",
              " 'الهفرعجيره',\n",
              " 'الفركجآه',\n",
              " 'الفرطجهه',\n",
              " 'الةفرععجيه',\n",
              " 'طالفرعقجيه',\n",
              " 'الفاظرعجيه',\n",
              " 'خاففرعجيه',\n",
              " 'الفرعجثيهل',\n",
              " 'الفرعلويه',\n",
              " 'الفيرعجايه',\n",
              " 'اثفمعجيه',\n",
              " 'الففبرعجيه',\n",
              " 'اظإفرعجيه',\n",
              " 'الفرئجزه',\n",
              " 'صىالفرعجيه',\n",
              " 'الفرصعءيه',\n",
              " 'الآفرعجحه',\n",
              " 'اذفرعجيسه',\n",
              " 'الفرعجقيع',\n",
              " 'الدرعجيهم',\n",
              " 'الفةارعجيه',\n",
              " 'لفرغجيه',\n",
              " 'طالرفرعجيه',\n",
              " 'الفرضعجيآه',\n",
              " 'الئرعجمه',\n",
              " 'افلفعجيه',\n",
              " 'امخرعجيه',\n",
              " 'الفرعجهغه',\n",
              " 'الفررعزيه',\n",
              " 'الفرسجريه',\n",
              " 'ادفرظجيه',\n",
              " 'الترعجيا',\n",
              " 'آالفرعجه',\n",
              " 'الهفجعجيه',\n",
              " 'الفرعجصيإ',\n",
              " 'الفرعجايزه',\n",
              " 'الفظوجيه',\n",
              " 'اىثرعجيه',\n",
              " 'اغءلفرعجيه',\n",
              " 'الزفرعجيهظ',\n",
              " 'يالفرعجيغه',\n",
              " 'كئلفرعجيه',\n",
              " 'املفرعجويه',\n",
              " 'املفرإجيه',\n",
              " 'الفرأجيهز',\n",
              " 'السرعجيحه',\n",
              " 'اطفرعغجيه',\n",
              " 'صالفدرعجيه',\n",
              " 'الفرعجيكت',\n",
              " 'احفرعجؤيه',\n",
              " 'الفإرعجحه',\n",
              " 'الفرعشجيىه',\n",
              " 'اآلفرعجخيه',\n",
              " 'اكعفرعجيه',\n",
              " 'الفرعيهس',\n",
              " 'تلضفرعجيه',\n",
              " 'الفجحجيه',\n",
              " 'الرفرعثيه',\n",
              " 'الفردثجيه',\n",
              " 'الفبرعجيهط',\n",
              " 'الفخرءعجيه',\n",
              " 'الفرجيئ',\n",
              " 'الفرحجير',\n",
              " 'ذلفرعجيئ',\n",
              " 'الفرعاقه',\n",
              " 'اآلفرعجيهذ',\n",
              " 'الفرخعجعه',\n",
              " 'هائفرعجيه',\n",
              " 'الفرتعذيه',\n",
              " 'الفرعليئه',\n",
              " 'الفرعجرره',\n",
              " 'الفرعجأيهغ',\n",
              " 'البفرعجيم',\n",
              " 'الءفرإعجيه',\n",
              " 'اسفرعجيذ',\n",
              " 'الفتراجيه',\n",
              " 'الفرعجههيه',\n",
              " 'البفرطعجيه',\n",
              " 'اإفرعكجيه',\n",
              " 'الفئرعجياه',\n",
              " 'الفرعجيجها',\n",
              " 'اوثفرعجيه',\n",
              " 'الصرعغيه',\n",
              " 'الفرعجكيا',\n",
              " 'الفرعجنهف',\n",
              " 'ضالفرعجيهه',\n",
              " 'الوركعجيه',\n",
              " 'الفرطريه',\n",
              " 'الفرععيهب',\n",
              " 'الفرعفجصه',\n",
              " 'الفأعجصه',\n",
              " 'السرىجيه',\n",
              " 'فقلفرعجيه',\n",
              " 'ادلفرعجسيه',\n",
              " 'الفرعظتيه',\n",
              " 'شالفرعجيهذ',\n",
              " 'الفرعجرة',\n",
              " 'طالفرعجيشه',\n",
              " 'الفرعزيهل',\n",
              " 'الفخعجيهض',\n",
              " 'الغرعجؤيه',\n",
              " 'العطفرعجيه',\n",
              " 'الغرعفيه',\n",
              " 'الفرطعجيهض',\n",
              " 'ؤلةرعجيه',\n",
              " 'صالفرعجيص',\n",
              " 'الفنرعكيه',\n",
              " 'دلفرعخجيه',\n",
              " 'الفرعتليه',\n",
              " 'الفرجيهذ',\n",
              " 'الفركعجه',\n",
              " 'ؤالفرتعجيه',\n",
              " 'الفذرعجيحه',\n",
              " 'عالزفرعجيه',\n",
              " 'ائلفرعجظه',\n",
              " 'الفدعجيصه',\n",
              " 'الفجعجءه',\n",
              " 'الفرضعجأيه',\n",
              " 'ءزالفرعجيه',\n",
              " 'طالفرهعجيه',\n",
              " 'الفرزعخجيه',\n",
              " 'الضرعجذه',\n",
              " 'آلفرعجير',\n",
              " 'يلفرعيه',\n",
              " 'دعفرعجيه',\n",
              " 'الدفأعجيه',\n",
              " 'الفرعجذمه',\n",
              " 'الفرجيسه',\n",
              " 'الففرعآيه',\n",
              " 'الثفرعجإيه',\n",
              " 'اخلخفرعجيه',\n",
              " 'السرمعجيه',\n",
              " 'يلظرعجيه',\n",
              " 'جلفرعججه',\n",
              " 'إلفررجيه',\n",
              " 'دالءرعجيه',\n",
              " 'الترلجيه',\n",
              " 'الفربهيه',\n",
              " 'الفروعضيه',\n",
              " 'الهرعجريه',\n",
              " 'الفشإعجيه',\n",
              " 'اذررعجيه',\n",
              " 'هالفرغعجيه',\n",
              " 'اآفرعجطيه',\n",
              " 'الهفرعجذيه',\n",
              " 'الفرعكجيصه',\n",
              " 'ةالإفرعجيه',\n",
              " 'اطلفرعجيطه',\n",
              " 'الفرعظيهإ',\n",
              " 'ائلفرعوجيه',\n",
              " 'الفربجيله',\n",
              " 'اخلفرعجبيه',\n",
              " 'ازفرعجشيه',\n",
              " 'الفرضعجيهل',\n",
              " 'حؤلفرعجيه',\n",
              " 'آخالفرعجيه',\n",
              " 'الضرعجعيه',\n",
              " 'الفرظجديه',\n",
              " 'السفرنعجيه',\n",
              " 'الفرعنيهض',\n",
              " 'الفرعجبصه',\n",
              " 'الفرنجآه',\n",
              " 'الفةعجيد',\n",
              " 'آلفرعجآه',\n",
              " 'ذلفرعجته',\n",
              " 'اضلفرعجيصه',\n",
              " 'املفرعجيك',\n",
              " 'الفرزجصه',\n",
              " 'ثاوفرعجيه',\n",
              " 'بلفرعجيغه',\n",
              " 'البفرعجيهع',\n",
              " 'الؤفركجيه',\n",
              " 'الفربعآيه',\n",
              " 'بلفرعجيهن',\n",
              " 'الفورعجيهم',\n",
              " 'األفلرعجيه',\n",
              " 'الفارنجيه',\n",
              " 'هلفرعجيهغ',\n",
              " 'الفرؤبعجيه',\n",
              " 'اشلفرعجءه',\n",
              " 'المرىعجيه',\n",
              " 'الفرعغجثه',\n",
              " 'ألفرخجيه',\n",
              " 'الفأررعجيه',\n",
              " 'الصفرعجكه',\n",
              " 'اكفرججيه',\n",
              " 'السفرعجءه',\n",
              " 'ىلفرآجيه',\n",
              " 'صلفرمعجيه',\n",
              " 'لالفدرعجيه',\n",
              " 'اإفخرعجيه',\n",
              " 'الرعجيهف',\n",
              " 'اؤفرعجيهآ',\n",
              " 'الىفصرعجيه',\n",
              " 'اذضفرعجيه',\n",
              " 'تالفظعجيه',\n",
              " 'الفححعجيه',\n",
              " 'ظلفرعجءه',\n",
              " 'الفرحعجيهء',\n",
              " 'الغشرعجيه',\n",
              " 'الفرعجثيهؤ',\n",
              " 'بلفرعءجيه',\n",
              " 'الفرسؤعجيه',\n",
              " 'اففرظعجيه',\n",
              " 'اشلفرنعجيه',\n",
              " 'الفةعجيسه',\n",
              " 'الزرعجثه',\n",
              " 'اسفرعجيهج',\n",
              " 'الفرعجينء',\n",
              " 'االفرعجذيه',\n",
              " 'الفئعجظه',\n",
              " 'إلفرعجيو',\n",
              " 'ضلفرججيه',\n",
              " 'الفروجيهس',\n",
              " 'الزلعجيه',\n",
              " 'لترعجيه',\n",
              " 'احلفرعةجيه',\n",
              " 'الفرعقخيه',\n",
              " 'الفرعويش',\n",
              " 'الفرظجيؤ',\n",
              " 'الفرعجحكيه',\n",
              " 'بالفرظجيه',\n",
              " 'نلفقعجيه',\n",
              " 'الهفرعجيوه',\n",
              " 'ظلفررجيه',\n",
              " 'الكفرظجيه',\n",
              " 'اتلفرةجيه',\n",
              " 'الضزعجيه',\n",
              " 'الفرعنيءه',\n",
              " 'زالفرئجيه',\n",
              " 'القفريجيه',\n",
              " 'الفرةعميه',\n",
              " 'الففرشعجيه',\n",
              " 'الفهرعجؤه',\n",
              " 'اإثفرعجيه',\n",
              " 'الظفرعجيج',\n",
              " 'الفؤعجيهو',\n",
              " 'اسفرعيجيه',\n",
              " 'الفرعجسيإ',\n",
              " 'اكلفيعجيه',\n",
              " 'الفسوعجيه',\n",
              " 'المفرزعجيه',\n",
              " 'اآلفرعجيظه',\n",
              " 'تالفبرعجيه',\n",
              " 'ذلدرعجيه',\n",
              " 'الفرتعجطه',\n",
              " 'ىلفربجيه',\n",
              " 'هلفرعجيي',\n",
              " 'اسلفرعزجيه',\n",
              " 'اجفترعجيه',\n",
              " 'النفرعخيه',\n",
              " 'الفضرعججه',\n",
              " 'اشفرعجيف',\n",
              " 'الفرذهجيه',\n",
              " 'اففرعيه',\n",
              " 'الفرءعجيط',\n",
              " 'اطفرغجيه',\n",
              " 'شالفقرعجيه',\n",
              " 'غالفرعجيثه',\n",
              " 'اافرعجيهئ',\n",
              " 'تلفرعريه',\n",
              " 'الأءرعجيه',\n",
              " 'الفرعخجيهع',\n",
              " 'إلفرعنجيه',\n",
              " 'الفرعجتيهه',\n",
              " 'اللعرعجيه',\n",
              " 'الفرزدعجيه',\n",
              " 'الفوعجيهط',\n",
              " 'ارفرعجسه',\n",
              " 'الضفرءعجيه',\n",
              " 'حرلفرعجيه',\n",
              " 'اآجلفرعجيه',\n",
              " 'الفرعظءجيه',\n",
              " 'اعفرعجه',\n",
              " 'اذفرعفجيه',\n",
              " 'الفطرعجيهي',\n",
              " 'الفهرعجىه',\n",
              " 'الورئعجيه',\n",
              " 'الفجيرعجيه',\n",
              " 'الغرعجيث',\n",
              " 'الطفرعجيهغ',\n",
              " 'القلرعجيه',\n",
              " 'كاؤلفرعجيه',\n",
              " 'الفرعجيفى',\n",
              " 'الصرعجيهر',\n",
              " 'الثرعهجيه',\n",
              " 'نلفنعجيه',\n",
              " 'اغلفارعجيه',\n",
              " 'الفىعجيج',\n",
              " 'النفرذعجيه',\n",
              " 'الفرضعجيخه',\n",
              " 'الةرعبجيه',\n",
              " 'ساذفرعجيه',\n",
              " 'الررعجيهش',\n",
              " 'ادثرعجيه',\n",
              " 'حلفرثجيه',\n",
              " 'الفرعجنش',\n",
              " 'اجفرعجيئه',\n",
              " 'اهلفلعجيه',\n",
              " 'الفرشخعجيه',\n",
              " 'ذلفرعئيه',\n",
              " 'الورعجئه',\n",
              " 'الفرمجيهآ',\n",
              " 'الفلرعجره',\n",
              " 'الثفرعجيحه',\n",
              " 'ترالفرعجيه',\n",
              " 'الفرغجيهخ',\n",
              " 'اجلفقرعجيه',\n",
              " 'ادلفرعظيه',\n",
              " 'اةلفرعجيآ',\n",
              " 'اكفرزجيه',\n",
              " 'أالحرعجيه',\n",
              " 'اشلفرعذجيه',\n",
              " 'الفرصعيجيه',\n",
              " 'الفرعجحيل',\n",
              " 'الجرخعجيه',\n",
              " 'انفرعجغيه',\n",
              " 'الكفرعجيل',\n",
              " 'الفرلشعجيه',\n",
              " 'الفعجظه',\n",
              " 'ولفرعظجيه',\n",
              " 'الفرعجنأه',\n",
              " 'اخفرعجيذه',\n",
              " 'مالفرعجميه',\n",
              " 'الفرعفهه',\n",
              " 'الفرججيئ',\n",
              " 'اسلفرعجيى',\n",
              " 'انلفرعجيعه',\n",
              " 'النفرعجةيه',\n",
              " 'الفرعفجيهو',\n",
              " 'ائلفرعجيهخ',\n",
              " 'الدفرعريه',\n",
              " 'الفرعثيس',\n",
              " 'اىلفعرعجيه',\n",
              " 'كلفرعجيءه',\n",
              " 'الفرعهجعيه',\n",
              " 'اشلفرعجثه',\n",
              " 'الفرآفعجيه',\n",
              " 'الفجرغعجيه',\n",
              " 'الفكعتيه',\n",
              " 'الفررعجميه',\n",
              " 'الفرعإمه',\n",
              " 'الفرهجتيه',\n",
              " 'الفبرعوجيه',\n",
              " 'الزرعجسيه',\n",
              " 'بللرعجيه',\n",
              " 'الفرهجليه',\n",
              " 'ابلففرعجيه',\n",
              " 'الفرطعجيله',\n",
              " 'ضلفرعنجيه',\n",
              " 'الفرعجنيهغ',\n",
              " 'الطريعجيه',\n",
              " 'الئفرعجيهص',\n",
              " 'الفرعءيض',\n",
              " 'اضفرعجيهن',\n",
              " 'الفرعجزيهص',\n",
              " 'ناالفرعجيه',\n",
              " 'الفرعجيشىه',\n",
              " 'الفقرعجيل',\n",
              " 'ايفرعجآه',\n",
              " 'اصخلفرعجيه',\n",
              " 'الفرطعجؤه',\n",
              " 'الثورعجيه',\n",
              " 'خالفرعجيهج',\n",
              " 'احفرعاجيه',\n",
              " 'الآرعجغه',\n",
              " 'الآفرعجيفه',\n",
              " 'ضاثلفرعجيه',\n",
              " 'الءرئجيه',\n",
              " 'اءذلفرعجيه',\n",
              " 'اطلفزعجيه',\n",
              " 'اعفرعجوه',\n",
              " 'عالفرعجيهق',\n",
              " 'حاذفرعجيه',\n",
              " 'دالفىعجيه',\n",
              " 'الفخلجيه',\n",
              " 'الفلرعجمه',\n",
              " 'الفرعخجيهآ',\n",
              " 'الفرلجيهش',\n",
              " 'واشلفرعجيه',\n",
              " 'اللفرعجيهة',\n",
              " 'ةالفؤرعجيه',\n",
              " 'دلفرعجثيه',\n",
              " 'الفرعجويي',\n",
              " 'شلفئعجيه',\n",
              " 'اقلفرعجإيه',\n",
              " 'الفرعجيهىش',\n",
              " 'صالفرعجيهت',\n",
              " 'طلفرعجيك',\n",
              " 'الفرعجيآوه',\n",
              " 'الفرعآقه',\n",
              " 'صاتفرعجيه',\n",
              " 'صالفرعجيف',\n",
              " 'الفظعلجيه',\n",
              " 'سالفهرعجيه',\n",
              " 'ائحفرعجيه',\n",
              " 'الفزعجيل',\n",
              " 'ارفرعقجيه',\n",
              " 'اةلفرعنيه',\n",
              " 'الفرثجيهج',\n",
              " 'اجلفرعجيهه',\n",
              " 'الفرظعجيح',\n",
              " 'السرعجيئه',\n",
              " 'ءالفرعجيا',\n",
              " 'الفرعشيهو',\n",
              " 'الفرعجيزهى',\n",
              " 'غلفرعجيهط',\n",
              " 'الفنرأجيه',\n",
              " 'اكفععجيه',\n",
              " 'اتفةعجيه',\n",
              " 'الفرعأيقه',\n",
              " 'الفعمعجيه',\n",
              " 'اهلفرعءيه',\n",
              " 'اؤلفرشعجيه',\n",
              " 'الفرسجية',\n",
              " 'الفقعجإيه',\n",
              " 'الفركعجيمه',\n",
              " 'الفكرعجشيه',\n",
              " 'والفرعجنه',\n",
              " 'الفرعجيهفت',\n",
              " 'اتلففرعجيه',\n",
              " 'ابلفرعجيآه',\n",
              " 'ذالفرعجيره',\n",
              " 'الفرأجيهي',\n",
              " 'الدففعجيه',\n",
              " 'صلفرعغيه',\n",
              " 'ألارعجيه',\n",
              " 'ارفشعجيه',\n",
              " 'الفرعئيف',\n",
              " 'اثفرععجيه',\n",
              " 'اءلفرؤعجيه',\n",
              " 'المرعجيفه',\n",
              " 'الدفرهعجيه',\n",
              " 'الفرءلجيه',\n",
              " 'الفرعجثيض',\n",
              " 'الفتعجظه',\n",
              " 'ارلفرعجره',\n",
              " 'الفرسعيه',\n",
              " 'الفرفغجيه',\n",
              " 'الفظرعجظيه',\n",
              " 'رالفيعجيه',\n",
              " 'الفرعنجخيه',\n",
              " 'دلفرعجسيه',\n",
              " 'جلزفرعجيه',\n",
              " 'ازلفرعذيه',\n",
              " 'جلفآرعجيه',\n",
              " 'ؤالفرعجيش',\n",
              " 'اطفرثجيه',\n",
              " 'ذلسفرعجيه',\n",
              " 'الفرعاجيع',\n",
              " 'اغفرععيه',\n",
              " 'انلشفرعجيه',\n",
              " 'ازلفرجعجيه',\n",
              " 'اضالفرعجيه',\n",
              " 'علفرعةيه',\n",
              " 'الفمعةيه',\n",
              " ...}"
            ]
          },
          "metadata": {
            "tags": []
          },
          "execution_count": 121
        }
      ]
    },
    {
      "cell_type": "code",
      "metadata": {
        "id": "FqtvDWLuovQQ"
      },
      "source": [
        ""
      ],
      "execution_count": null,
      "outputs": []
    },
    {
      "cell_type": "markdown",
      "metadata": {
        "id": "Ai0uNCD9N52E"
      },
      "source": [
        "#Evaluation -Not Compelet"
      ]
    },
    {
      "cell_type": "code",
      "metadata": {
        "id": "Z0gpudqcOElY"
      },
      "source": [
        "testpath = '/content/drive/MyDrive/test.txt'\n",
        "orginal_test_path='/content/drive/MyDrive/orginal-test.txt'"
      ],
      "execution_count": null,
      "outputs": []
    },
    {
      "cell_type": "code",
      "metadata": {
        "id": "sqQ-s-MIPtR9"
      },
      "source": [
        "fileList = readFile(testPath)\n",
        "errordict = findErrors(dicList , fileList )\n",
        "errorList = list(errordict.keys())\n",
        "printErrors(errorList)"
      ],
      "execution_count": null,
      "outputs": []
    },
    {
      "cell_type": "code",
      "metadata": {
        "id": "T3SVlzrkN8vh"
      },
      "source": [
        "word_test_after = process_data(testpath)\n",
        "orginal_test = process_data(orginal_test_path)"
      ],
      "execution_count": null,
      "outputs": []
    },
    {
      "cell_type": "code",
      "metadata": {
        "id": "vvUvGMLNRRlB"
      },
      "source": [
        "errordict = findErrors(dicList , word_test_after )\n",
        "errorList = list(errordict.keys())"
      ],
      "execution_count": null,
      "outputs": []
    },
    {
      "cell_type": "code",
      "metadata": {
        "colab": {
          "base_uri": "https://localhost:8080/"
        },
        "id": "qppihO1YRapB",
        "outputId": "c6d287d4-a0ea-4bb6-9376-08af3faf60fa"
      },
      "source": [
        ""
      ],
      "execution_count": null,
      "outputs": [
        {
          "output_type": "execute_result",
          "data": {
            "text/plain": [
              "675"
            ]
          },
          "metadata": {
            "tags": []
          },
          "execution_count": 176
        }
      ]
    },
    {
      "cell_type": "code",
      "metadata": {
        "id": "o0l5wmgdVwxJ"
      },
      "source": [
        "fileL = fileList.copy()\n",
        "mywords = errordict.keys()\n",
        "for my_word in mywords:\n",
        "  print('-'*50)\n",
        "  print('Wrong word :' ,my_word)\n",
        "  tmp_corrections = get_corrections(my_word, probs, vocab, 2, verbose=False)\n",
        "\n",
        "  for i, word_prob in enumerate(tmp_corrections):\n",
        "    print(f\"word {i}: {word_prob[0]}, probability {word_prob[1]:.6f}\")\n",
        "    fileL[errordict[my_word]] = word_prob[0]\n",
        "    #print(' '.join(fileL))\n",
        "    \n",
        "\n",
        "  print('-'*50)\n",
        "  print('\\n')"
      ],
      "execution_count": null,
      "outputs": []
    }
  ]
}